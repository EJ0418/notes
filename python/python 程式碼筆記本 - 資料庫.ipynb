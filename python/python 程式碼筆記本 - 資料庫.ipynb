{
 "cells": [
  {
   "cell_type": "markdown",
   "id": "e33e0635",
   "metadata": {},
   "source": [
    "# [ SQLite ]"
   ]
  },
  {
   "cell_type": "code",
   "execution_count": null,
   "id": "d7fcc6ed",
   "metadata": {
    "scrolled": false
   },
   "outputs": [],
   "source": [
    "import sqlite3\n",
    "\n",
    "conn = sqlite3.connect(\"EJsData.db\")  #創建一個資料庫，如果已有這個資料庫，就跟他做連線\n",
    "\n",
    "cursor = conn.cursor()  #指定游標？\n",
    "\n",
    "cursor.execute('CREATE TABLE students (id text, name text, gender text)')  #建立資料表\n",
    "#相當於： (用這個可以省略cursor這個東西)\n",
    "sql = '''Create table studentsnew( \n",
    "        id int,\n",
    "        name text,\n",
    "        gender text)'''\n",
    "conn.execute(sql)                     # 執行SQL指令\n",
    "\n",
    "#conn.execute('''INSERT INTO studentsnew VALUES('001', 'Evelyn', 'W')''')#不知為何一直不成功，我也懶得弄了\n",
    "#conn.commit()\n",
    "\n",
    "cursor.close()                          # 關閉\n",
    "conn.close()                            # 關閉資料庫連線"
   ]
  },
  {
   "cell_type": "code",
   "execution_count": null,
   "id": "7b080fd0",
   "metadata": {},
   "outputs": [],
   "source": [
    "cursor.execute('DROP TABLE students')  #'輸入SQL指令'：刪除students資料表\n",
    "conn.execute('DROP TABLE studentsnew')"
   ]
  },
  {
   "cell_type": "code",
   "execution_count": null,
   "id": "672e57d3",
   "metadata": {},
   "outputs": [],
   "source": [
    "conn.close() "
   ]
  },
  {
   "cell_type": "code",
   "execution_count": null,
   "id": "cc5aee1d",
   "metadata": {},
   "outputs": [],
   "source": [
    "import sqlite3\n",
    "conn = sqlite3.connect(\"myData3.db\")     # 資料庫連線\n",
    "print(\"請輸入myData3資料庫students表單資料\")\n",
    "while True:\n",
    "    new_id = int(input(\"請輸入id : \"))  # 轉成整數\n",
    "    new_name = input(\"請輸入name : \")\n",
    "    new_gender = input(\"請輸入gender : \")\n",
    "    \n",
    "    x = (new_id, new_name, new_gender)  #轉成tuple形式\n",
    "    \n",
    "    sql = '''insert into students values(?,?,?)'''   #在students資料表中插入\n",
    "    conn.execute(sql,x)  #將x的3個資料丟進去sql\n",
    "    conn.commit()                       # 更新資料庫\n",
    "    again = input(\"繼續(y/n)? \")\n",
    "    if again[0].lower() == \"n\":\n",
    "        break\n",
    "conn.close()                            # 關閉資料庫連線"
   ]
  },
  {
   "cell_type": "code",
   "execution_count": null,
   "id": "d7278b19",
   "metadata": {},
   "outputs": [],
   "source": [
    "import sqlite3\n",
    "conn = sqlite3.connect(\"myData3.db\")     # 資料庫連線\n",
    "results = conn.execute(\"SELECT * from students\")  #抓全部欄位\n",
    "resultsSpecific = conn.execute(\"SELECT name form students\")  #從students中抓name欄位\n",
    "\n",
    "sql = '''SELECT name, gender\n",
    "        from students\n",
    "        where gender = \"f\"'''\n",
    "results = conn.execute(sql)  #從students中抓name和gender欄位，並且gender只抓f的\n",
    "\n",
    "for record in results:  #print資料\n",
    "    print(\"id = \", record[0])\n",
    "    print(\"name = \", record[1])\n",
    "    print(\"gender = \", record[2])\n",
    "    \n",
    "allstudents = results.fetchall()        # 結果轉成元素是元組的串列tuple\n",
    "for student in allstudents:\n",
    "    print(student)\n",
    "    \n",
    "conn.close()                            # 關閉資料庫連線"
   ]
  },
  {
   "cell_type": "code",
   "execution_count": null,
   "id": "5fc872b2",
   "metadata": {},
   "outputs": [],
   "source": [
    "import sqlite3\n",
    "conn = sqlite3.connect(\"myData3.db\")     # 資料庫連線\n",
    "sql = '''UPDATE students\n",
    "        set name = \"Tomy\"\n",
    "        where id = 1'''\n",
    "results = conn.execute(sql)  #把id = 1的欄位改成Tomy\n",
    "conn.commit()                           # 更新資料庫\n",
    "results = conn.execute(\"SELECT name from students\")\n",
    "allstudents = results.fetchall()        # 結果轉成元素是元組的串列\n",
    "for student in allstudents:\n",
    "    print(student)\n",
    "conn.close()                            # 關閉資料庫連線"
   ]
  },
  {
   "cell_type": "code",
   "execution_count": null,
   "id": "d3a4acea",
   "metadata": {},
   "outputs": [],
   "source": [
    "import sqlite3\n",
    "conn = sqlite3.connect(\"myData3.db\")     # 資料庫連線\n",
    "sql = '''DELETE\n",
    "        from students\n",
    "        where id = 2'''\n",
    "results = conn.execute(sql)\n",
    "conn.commit()                           # 更新資料庫\n",
    "results = conn.execute(\"SELECT name from students\")\n",
    "allstudents = results.fetchall()        # 結果轉成元素是元組的串列\n",
    "for student in allstudents:\n",
    "    print(student)\n",
    "conn.close()                            # 關閉資料庫連線"
   ]
  },
  {
   "cell_type": "markdown",
   "id": "268c3193",
   "metadata": {},
   "source": [
    "# [ mySQLdb ]\n",
    "密碼：Y.56"
   ]
  },
  {
   "cell_type": "code",
   "execution_count": 7,
   "id": "a40c0b32",
   "metadata": {},
   "outputs": [],
   "source": [
    "##創建資料庫\n",
    "\n",
    "import MySQLdb\n",
    "\n",
    "db = MySQLdb.connect(host = 'localhost', user = 'root', passwd = 'Yi503824916')  #連接root使用者\n",
    "\n",
    "cursor = db.cursor()  #建立Cursor變數為使用上面定義的db變數內容\n",
    "\n",
    "ejdata = 'CREATE DATABASE ej'  #用SQL語言建立ej的資料庫(在root中?)\n",
    "\n",
    "cursor.execute(ejdata)  #執行ejdata變數所定義的程式碼\n",
    "\n",
    "db.close()  #中斷連線root資料庫"
   ]
  },
  {
   "cell_type": "code",
   "execution_count": 11,
   "id": "ab4dae28",
   "metadata": {},
   "outputs": [
    {
     "ename": "OperationalError",
     "evalue": "(1008, \"Can't drop database 'mydata'; database doesn't exist\")",
     "output_type": "error",
     "traceback": [
      "\u001b[1;31m---------------------------------------------------------------------------\u001b[0m",
      "\u001b[1;31mOperationalError\u001b[0m                          Traceback (most recent call last)",
      "Cell \u001b[1;32mIn[11], line 7\u001b[0m\n\u001b[0;32m      3\u001b[0m db \u001b[38;5;241m=\u001b[39m MySQLdb\u001b[38;5;241m.\u001b[39mconnect(host \u001b[38;5;241m=\u001b[39m \u001b[38;5;124m'\u001b[39m\u001b[38;5;124mlocalhost\u001b[39m\u001b[38;5;124m'\u001b[39m, user \u001b[38;5;241m=\u001b[39m \u001b[38;5;124m'\u001b[39m\u001b[38;5;124mroot\u001b[39m\u001b[38;5;124m'\u001b[39m, passwd \u001b[38;5;241m=\u001b[39m \u001b[38;5;124m'\u001b[39m\u001b[38;5;124mYi503824916\u001b[39m\u001b[38;5;124m'\u001b[39m)\n\u001b[0;32m      5\u001b[0m cursor \u001b[38;5;241m=\u001b[39m db\u001b[38;5;241m.\u001b[39mcursor()\n\u001b[1;32m----> 7\u001b[0m \u001b[43mcursor\u001b[49m\u001b[38;5;241;43m.\u001b[39;49m\u001b[43mexecute\u001b[49m\u001b[43m(\u001b[49m\u001b[38;5;124;43m'\u001b[39;49m\u001b[38;5;124;43mDROP DATABASE myData\u001b[39;49m\u001b[38;5;124;43m'\u001b[39;49m\u001b[43m)\u001b[49m  \u001b[38;5;66;03m#丟掉資料庫ej\u001b[39;00m\n\u001b[0;32m      9\u001b[0m db\u001b[38;5;241m.\u001b[39mclose()\n",
      "File \u001b[1;32mD:\\app\\Anaconda\\envs\\Tibame\\lib\\site-packages\\MySQLdb\\cursors.py:206\u001b[0m, in \u001b[0;36mBaseCursor.execute\u001b[1;34m(self, query, args)\u001b[0m\n\u001b[0;32m    203\u001b[0m         \u001b[38;5;28;01mraise\u001b[39;00m ProgrammingError(\u001b[38;5;28mstr\u001b[39m(m))\n\u001b[0;32m    205\u001b[0m \u001b[38;5;28;01massert\u001b[39;00m \u001b[38;5;28misinstance\u001b[39m(query, (\u001b[38;5;28mbytes\u001b[39m, \u001b[38;5;28mbytearray\u001b[39m))\n\u001b[1;32m--> 206\u001b[0m res \u001b[38;5;241m=\u001b[39m \u001b[38;5;28;43mself\u001b[39;49m\u001b[38;5;241;43m.\u001b[39;49m\u001b[43m_query\u001b[49m\u001b[43m(\u001b[49m\u001b[43mquery\u001b[49m\u001b[43m)\u001b[49m\n\u001b[0;32m    207\u001b[0m \u001b[38;5;28;01mreturn\u001b[39;00m res\n",
      "File \u001b[1;32mD:\\app\\Anaconda\\envs\\Tibame\\lib\\site-packages\\MySQLdb\\cursors.py:319\u001b[0m, in \u001b[0;36mBaseCursor._query\u001b[1;34m(self, q)\u001b[0m\n\u001b[0;32m    317\u001b[0m db \u001b[38;5;241m=\u001b[39m \u001b[38;5;28mself\u001b[39m\u001b[38;5;241m.\u001b[39m_get_db()\n\u001b[0;32m    318\u001b[0m \u001b[38;5;28mself\u001b[39m\u001b[38;5;241m.\u001b[39m_result \u001b[38;5;241m=\u001b[39m \u001b[38;5;28;01mNone\u001b[39;00m\n\u001b[1;32m--> 319\u001b[0m \u001b[43mdb\u001b[49m\u001b[38;5;241;43m.\u001b[39;49m\u001b[43mquery\u001b[49m\u001b[43m(\u001b[49m\u001b[43mq\u001b[49m\u001b[43m)\u001b[49m\n\u001b[0;32m    320\u001b[0m \u001b[38;5;28mself\u001b[39m\u001b[38;5;241m.\u001b[39m_do_get_result(db)\n\u001b[0;32m    321\u001b[0m \u001b[38;5;28mself\u001b[39m\u001b[38;5;241m.\u001b[39m_post_get_result()\n",
      "File \u001b[1;32mD:\\app\\Anaconda\\envs\\Tibame\\lib\\site-packages\\MySQLdb\\connections.py:254\u001b[0m, in \u001b[0;36mConnection.query\u001b[1;34m(self, query)\u001b[0m\n\u001b[0;32m    252\u001b[0m \u001b[38;5;28;01mif\u001b[39;00m \u001b[38;5;28misinstance\u001b[39m(query, \u001b[38;5;28mbytearray\u001b[39m):\n\u001b[0;32m    253\u001b[0m     query \u001b[38;5;241m=\u001b[39m \u001b[38;5;28mbytes\u001b[39m(query)\n\u001b[1;32m--> 254\u001b[0m \u001b[43m_mysql\u001b[49m\u001b[38;5;241;43m.\u001b[39;49m\u001b[43mconnection\u001b[49m\u001b[38;5;241;43m.\u001b[39;49m\u001b[43mquery\u001b[49m\u001b[43m(\u001b[49m\u001b[38;5;28;43mself\u001b[39;49m\u001b[43m,\u001b[49m\u001b[43m \u001b[49m\u001b[43mquery\u001b[49m\u001b[43m)\u001b[49m\n",
      "\u001b[1;31mOperationalError\u001b[0m: (1008, \"Can't drop database 'mydata'; database doesn't exist\")"
     ]
    }
   ],
   "source": [
    "import MySQLdb\n",
    "\n",
    "db = MySQLdb.connect(host = 'localhost', user = 'root', passwd = 'Yi503824916')\n",
    "\n",
    "cursor = db.cursor()\n",
    "\n",
    "cursor.execute('DROP DATABASE myData')  #丟掉資料庫ej\n",
    "\n",
    "db.close()"
   ]
  },
  {
   "cell_type": "code",
   "execution_count": 8,
   "id": "f310aadc",
   "metadata": {},
   "outputs": [
    {
     "name": "stdout",
     "output_type": "stream",
     "text": [
      "Database version : ('8.0.32',)\n"
     ]
    }
   ],
   "source": [
    "#!/usr/bin/python\n",
    "\n",
    "import MySQLdb\n",
    "\n",
    "db = MySQLdb.connect(\"localhost\",\"root\",\"Yi503824916\",\"ej\" )\n",
    "\n",
    "cursor = db.cursor()\n",
    "\n",
    "cursor.execute(\"SELECT VERSION()\")  #查看mysql的版本\n",
    "\n",
    "data = cursor.fetchone()  # 結果轉成元素是元組的串列tuple\n",
    "print(\"Database version : {}\".format(data))\n",
    "\n",
    "db.close()"
   ]
  },
  {
   "cell_type": "code",
   "execution_count": 12,
   "id": "ee0d49b6",
   "metadata": {},
   "outputs": [
    {
     "ename": "OperationalError",
     "evalue": "(1050, \"Table 'employee' already exists\")",
     "output_type": "error",
     "traceback": [
      "\u001b[1;31m---------------------------------------------------------------------------\u001b[0m",
      "\u001b[1;31mOperationalError\u001b[0m                          Traceback (most recent call last)",
      "Cell \u001b[1;32mIn[12], line 17\u001b[0m\n\u001b[0;32m      9\u001b[0m \u001b[38;5;66;03m# 建立EMPLOYEE資料表，內含：名(型別：最多20個字元)、姓、年齡(型別：整數)、性別(型別：1或0)、收入(型別：小數 之欄位\u001b[39;00m\n\u001b[0;32m     10\u001b[0m sql \u001b[38;5;241m=\u001b[39m \u001b[38;5;124m\"\"\"\u001b[39m\u001b[38;5;124mCREATE TABLE EMPLOYEE (\u001b[39m\n\u001b[0;32m     11\u001b[0m \u001b[38;5;124m         FIRST_NAME  CHAR(20) NOT NULL,\u001b[39m\n\u001b[0;32m     12\u001b[0m \u001b[38;5;124m         LAST_NAME  CHAR(20),\u001b[39m\n\u001b[0;32m     13\u001b[0m \u001b[38;5;124m         AGE INT,  \u001b[39m\n\u001b[0;32m     14\u001b[0m \u001b[38;5;124m         SEX CHAR(1),\u001b[39m\n\u001b[0;32m     15\u001b[0m \u001b[38;5;124m         INCOME FLOAT )\u001b[39m\u001b[38;5;124m\"\"\"\u001b[39m\n\u001b[1;32m---> 17\u001b[0m \u001b[43mcursor\u001b[49m\u001b[38;5;241;43m.\u001b[39;49m\u001b[43mexecute\u001b[49m\u001b[43m(\u001b[49m\u001b[43msql\u001b[49m\u001b[43m)\u001b[49m\n\u001b[0;32m     19\u001b[0m db\u001b[38;5;241m.\u001b[39mclose()\n",
      "File \u001b[1;32mD:\\app\\Anaconda\\envs\\Tibame\\lib\\site-packages\\MySQLdb\\cursors.py:206\u001b[0m, in \u001b[0;36mBaseCursor.execute\u001b[1;34m(self, query, args)\u001b[0m\n\u001b[0;32m    203\u001b[0m         \u001b[38;5;28;01mraise\u001b[39;00m ProgrammingError(\u001b[38;5;28mstr\u001b[39m(m))\n\u001b[0;32m    205\u001b[0m \u001b[38;5;28;01massert\u001b[39;00m \u001b[38;5;28misinstance\u001b[39m(query, (\u001b[38;5;28mbytes\u001b[39m, \u001b[38;5;28mbytearray\u001b[39m))\n\u001b[1;32m--> 206\u001b[0m res \u001b[38;5;241m=\u001b[39m \u001b[38;5;28;43mself\u001b[39;49m\u001b[38;5;241;43m.\u001b[39;49m\u001b[43m_query\u001b[49m\u001b[43m(\u001b[49m\u001b[43mquery\u001b[49m\u001b[43m)\u001b[49m\n\u001b[0;32m    207\u001b[0m \u001b[38;5;28;01mreturn\u001b[39;00m res\n",
      "File \u001b[1;32mD:\\app\\Anaconda\\envs\\Tibame\\lib\\site-packages\\MySQLdb\\cursors.py:319\u001b[0m, in \u001b[0;36mBaseCursor._query\u001b[1;34m(self, q)\u001b[0m\n\u001b[0;32m    317\u001b[0m db \u001b[38;5;241m=\u001b[39m \u001b[38;5;28mself\u001b[39m\u001b[38;5;241m.\u001b[39m_get_db()\n\u001b[0;32m    318\u001b[0m \u001b[38;5;28mself\u001b[39m\u001b[38;5;241m.\u001b[39m_result \u001b[38;5;241m=\u001b[39m \u001b[38;5;28;01mNone\u001b[39;00m\n\u001b[1;32m--> 319\u001b[0m \u001b[43mdb\u001b[49m\u001b[38;5;241;43m.\u001b[39;49m\u001b[43mquery\u001b[49m\u001b[43m(\u001b[49m\u001b[43mq\u001b[49m\u001b[43m)\u001b[49m\n\u001b[0;32m    320\u001b[0m \u001b[38;5;28mself\u001b[39m\u001b[38;5;241m.\u001b[39m_do_get_result(db)\n\u001b[0;32m    321\u001b[0m \u001b[38;5;28mself\u001b[39m\u001b[38;5;241m.\u001b[39m_post_get_result()\n",
      "File \u001b[1;32mD:\\app\\Anaconda\\envs\\Tibame\\lib\\site-packages\\MySQLdb\\connections.py:254\u001b[0m, in \u001b[0;36mConnection.query\u001b[1;34m(self, query)\u001b[0m\n\u001b[0;32m    252\u001b[0m \u001b[38;5;28;01mif\u001b[39;00m \u001b[38;5;28misinstance\u001b[39m(query, \u001b[38;5;28mbytearray\u001b[39m):\n\u001b[0;32m    253\u001b[0m     query \u001b[38;5;241m=\u001b[39m \u001b[38;5;28mbytes\u001b[39m(query)\n\u001b[1;32m--> 254\u001b[0m \u001b[43m_mysql\u001b[49m\u001b[38;5;241;43m.\u001b[39;49m\u001b[43mconnection\u001b[49m\u001b[38;5;241;43m.\u001b[39;49m\u001b[43mquery\u001b[49m\u001b[43m(\u001b[49m\u001b[38;5;28;43mself\u001b[39;49m\u001b[43m,\u001b[49m\u001b[43m \u001b[49m\u001b[43mquery\u001b[49m\u001b[43m)\u001b[49m\n",
      "\u001b[1;31mOperationalError\u001b[0m: (1050, \"Table 'employee' already exists\")"
     ]
    }
   ],
   "source": [
    "##創建資料表\n",
    "\n",
    "import MySQLdb\n",
    "\n",
    "db = MySQLdb.connect(\"localhost\",\"root\",\"Yi503824916\",\"ej\" )\n",
    "\n",
    "cursor = db.cursor()\n",
    "\n",
    "# 建立EMPLOYEE資料表，內含：名(型別：最多20個字元)、姓、年齡(型別：整數)、性別(型別：1或0)、收入(型別：小數 之欄位\n",
    "sql = \"\"\"CREATE TABLE EMPLOYEE (\n",
    "         FIRST_NAME  CHAR(20) NOT NULL,\n",
    "         LAST_NAME  CHAR(20),\n",
    "         AGE INT,  \n",
    "         SEX CHAR(1),\n",
    "         INCOME FLOAT )\"\"\"\n",
    "\n",
    "cursor.execute(sql)\n",
    "\n",
    "db.close()"
   ]
  },
  {
   "cell_type": "code",
   "execution_count": 13,
   "id": "f91fda76",
   "metadata": {},
   "outputs": [],
   "source": [
    "#在資料表中插入資料\n",
    "\n",
    "import MySQLdb\n",
    "\n",
    "db = MySQLdb.connect(\"localhost\",\"root\",\"Yi503824916\",\"ej\" )\n",
    "\n",
    "cursor = db.cursor()\n",
    "\n",
    "#依序插入資料\n",
    "sql = \"\"\"INSERT INTO EMPLOYEE(FIRST_NAME,\n",
    "         LAST_NAME, AGE, SEX, INCOME)\n",
    "         VALUES ('Mac', 'Mohan', 20, 'M', 2000)\"\"\"\n",
    "try:\n",
    "   cursor.execute(sql) #執行\n",
    "   db.commit()  #更新資料庫\n",
    "except:\n",
    "   # Rollback in case there is any error\n",
    "   db.rollback()\n",
    "\n",
    "db.close()"
   ]
  },
  {
   "cell_type": "code",
   "execution_count": 21,
   "id": "6453470a",
   "metadata": {},
   "outputs": [],
   "source": [
    "#查詢資料表\n",
    "\n",
    "import MySQLdb\n",
    "\n",
    "db = MySQLdb.connect(\"localhost\",\"root\",\"Yi503824916\",\"ej\" )\n",
    "\n",
    "cursor = db.cursor()\n",
    "\n",
    "#'*' = 全部，從EMPLOYEE資料表中選擇INCOME的欄位秀出\n",
    "sql = \"SELECT * FROM EMPLOYEE \\\n",
    "       WHERE INCOME > '%d'\" % (1000)\n",
    "try:\n",
    "    cursor.execute(sql)\n",
    "\n",
    "    results = cursor.fetchall()   # 將所有解果轉成元素是元組的串列tuple\n",
    "    for row in results:\n",
    "        fname = row[0]\n",
    "        lname = row[1]\n",
    "        age = row[2]\n",
    "        sex = row[3]\n",
    "        income = row[4]\n",
    "\n",
    "        print(\"fname={},lname={},age={},sex={},income={}\".format(fname, lname, age, sex, income ))\n",
    "except:\n",
    "    print(\"Error: unable to fecth data\")\n",
    "\n",
    "db.close()"
   ]
  },
  {
   "cell_type": "code",
   "execution_count": 15,
   "id": "a1298a7b",
   "metadata": {},
   "outputs": [],
   "source": [
    "#更新資料表中的資料 (把A換成B)\n",
    "\n",
    "import MySQLdb\n",
    "\n",
    "db = MySQLdb.connect(\"localhost\",\"root\",\"Yi503824916\",\"ej\" )\n",
    "\n",
    "cursor = db.cursor()\n",
    "\n",
    "#將EMPLOYEE資料表中的AGE欄位改成原來資料+1，其中SEX欄位改成?\n",
    "sql = \"UPDATE EMPLOYEE SET AGE = AGE + 1 WHERE SEX = '%c'\" % ('M')\n",
    "\n",
    "try:\n",
    "   cursor.execute(sql)\n",
    "   db.commit()\n",
    "except:\n",
    "   # Rollback in case there is any error\n",
    "   db.rollback()\n",
    "\n",
    "db.close()"
   ]
  },
  {
   "cell_type": "code",
   "execution_count": 17,
   "id": "0c55c137",
   "metadata": {},
   "outputs": [],
   "source": [
    "#刪除資料表中的資料\n",
    "\n",
    "import MySQLdb\n",
    "\n",
    "db = MySQLdb.connect(\"localhost\",\"root\",\"Yi503824916\",\"ej\" )\n",
    "\n",
    "cursor = db.cursor()\n",
    "\n",
    "#刪除EMPLOYEE資料表中的AGE>20的資料\n",
    "sql = \"DELETE FROM EMPLOYEE WHERE AGE > '%d'\" % (20)\n",
    "try:\n",
    "   cursor.execute(sql)\n",
    "   db.commit()\n",
    "except:\n",
    "   # Rollback in case there is any error\n",
    "   db.rollback()\n",
    "\n",
    "db.close()"
   ]
  },
  {
   "cell_type": "markdown",
   "id": "62363771",
   "metadata": {},
   "source": [
    "# [ GUI ]"
   ]
  },
  {
   "cell_type": "code",
   "execution_count": 3,
   "id": "4af8da49",
   "metadata": {},
   "outputs": [
    {
     "ename": "TclError",
     "evalue": "can't invoke \"button\" command: application has been destroyed",
     "output_type": "error",
     "traceback": [
      "\u001b[1;31m---------------------------------------------------------------------------\u001b[0m",
      "\u001b[1;31mTclError\u001b[0m                                  Traceback (most recent call last)",
      "Cell \u001b[1;32mIn[3], line 17\u001b[0m\n\u001b[0;32m     12\u001b[0m E1\u001b[38;5;241m.\u001b[39mpack(side \u001b[38;5;241m=\u001b[39m RIGHT)\n\u001b[0;32m     15\u001b[0m \u001b[38;5;66;03m#在視窗中建一個按鈕\u001b[39;00m\n\u001b[0;32m     16\u001b[0m \u001b[38;5;66;03m#gui = Tk(className='Python GUI Tutorial - by TutorialKart')\u001b[39;00m\n\u001b[1;32m---> 17\u001b[0m button \u001b[38;5;241m=\u001b[39m \u001b[43mButton\u001b[49m\u001b[43m(\u001b[49m\u001b[43mgui\u001b[49m\u001b[43m,\u001b[49m\u001b[43m \u001b[49m\u001b[43mtext\u001b[49m\u001b[38;5;241;43m=\u001b[39;49m\u001b[38;5;124;43m'\u001b[39;49m\u001b[38;5;124;43mSubmit\u001b[39;49m\u001b[38;5;124;43m'\u001b[39;49m\u001b[43m,\u001b[49m\u001b[43m \u001b[49m\u001b[43mwidth\u001b[49m\u001b[38;5;241;43m=\u001b[39;49m\u001b[38;5;241;43m50\u001b[39;49m\u001b[43m,\u001b[49m\u001b[43m \u001b[49m\u001b[43mheight\u001b[49m\u001b[38;5;241;43m=\u001b[39;49m\u001b[38;5;241;43m4\u001b[39;49m\u001b[43m,\u001b[49m\u001b[43m \u001b[49m\u001b[43mbg\u001b[49m\u001b[38;5;241;43m=\u001b[39;49m\u001b[38;5;124;43m'\u001b[39;49m\u001b[38;5;124;43m#33CC33\u001b[39;49m\u001b[38;5;124;43m'\u001b[39;49m\u001b[43m,\u001b[49m\u001b[43m \u001b[49m\u001b[43mfg\u001b[49m\u001b[38;5;241;43m=\u001b[39;49m\u001b[38;5;124;43m'\u001b[39;49m\u001b[38;5;124;43m#FFFFFF\u001b[39;49m\u001b[38;5;124;43m'\u001b[39;49m\u001b[43m,\u001b[49m\u001b[43m \u001b[49m\u001b[43mactivebackground\u001b[49m\u001b[38;5;241;43m=\u001b[39;49m\u001b[38;5;124;43m'\u001b[39;49m\u001b[38;5;124;43m#44DD44\u001b[39;49m\u001b[38;5;124;43m'\u001b[39;49m\u001b[43m,\u001b[49m\u001b[43m \u001b[49m\u001b[43mactiveforeground\u001b[49m\u001b[38;5;241;43m=\u001b[39;49m\u001b[38;5;124;43m'\u001b[39;49m\u001b[38;5;124;43m#FFFFFF\u001b[39;49m\u001b[38;5;124;43m'\u001b[39;49m\u001b[43m)\u001b[49m\n\u001b[0;32m     18\u001b[0m button\u001b[38;5;241m.\u001b[39mpack()\n\u001b[0;32m     20\u001b[0m top\u001b[38;5;241m.\u001b[39mmainloop()\n",
      "File \u001b[1;32mD:\\app\\Anaconda\\envs\\Tibame\\lib\\tkinter\\__init__.py:2679\u001b[0m, in \u001b[0;36mButton.__init__\u001b[1;34m(self, master, cnf, **kw)\u001b[0m\n\u001b[0;32m   2660\u001b[0m \u001b[38;5;28;01mdef\u001b[39;00m \u001b[38;5;21m__init__\u001b[39m(\u001b[38;5;28mself\u001b[39m, master\u001b[38;5;241m=\u001b[39m\u001b[38;5;28;01mNone\u001b[39;00m, cnf\u001b[38;5;241m=\u001b[39m{}, \u001b[38;5;241m*\u001b[39m\u001b[38;5;241m*\u001b[39mkw):\n\u001b[0;32m   2661\u001b[0m     \u001b[38;5;124;03m\"\"\"Construct a button widget with the parent MASTER.\u001b[39;00m\n\u001b[0;32m   2662\u001b[0m \n\u001b[0;32m   2663\u001b[0m \u001b[38;5;124;03m    STANDARD OPTIONS\u001b[39;00m\n\u001b[1;32m   (...)\u001b[0m\n\u001b[0;32m   2677\u001b[0m \u001b[38;5;124;03m        overrelief, state, width\u001b[39;00m\n\u001b[0;32m   2678\u001b[0m \u001b[38;5;124;03m    \"\"\"\u001b[39;00m\n\u001b[1;32m-> 2679\u001b[0m     \u001b[43mWidget\u001b[49m\u001b[38;5;241;43m.\u001b[39;49m\u001b[38;5;21;43m__init__\u001b[39;49m\u001b[43m(\u001b[49m\u001b[38;5;28;43mself\u001b[39;49m\u001b[43m,\u001b[49m\u001b[43m \u001b[49m\u001b[43mmaster\u001b[49m\u001b[43m,\u001b[49m\u001b[43m \u001b[49m\u001b[38;5;124;43m'\u001b[39;49m\u001b[38;5;124;43mbutton\u001b[39;49m\u001b[38;5;124;43m'\u001b[39;49m\u001b[43m,\u001b[49m\u001b[43m \u001b[49m\u001b[43mcnf\u001b[49m\u001b[43m,\u001b[49m\u001b[43m \u001b[49m\u001b[43mkw\u001b[49m\u001b[43m)\u001b[49m\n",
      "File \u001b[1;32mD:\\app\\Anaconda\\envs\\Tibame\\lib\\tkinter\\__init__.py:2601\u001b[0m, in \u001b[0;36mBaseWidget.__init__\u001b[1;34m(self, master, widgetName, cnf, kw, extra)\u001b[0m\n\u001b[0;32m   2599\u001b[0m \u001b[38;5;28;01mfor\u001b[39;00m k, v \u001b[38;5;129;01min\u001b[39;00m classes:\n\u001b[0;32m   2600\u001b[0m     \u001b[38;5;28;01mdel\u001b[39;00m cnf[k]\n\u001b[1;32m-> 2601\u001b[0m \u001b[38;5;28;43mself\u001b[39;49m\u001b[38;5;241;43m.\u001b[39;49m\u001b[43mtk\u001b[49m\u001b[38;5;241;43m.\u001b[39;49m\u001b[43mcall\u001b[49m\u001b[43m(\u001b[49m\n\u001b[0;32m   2602\u001b[0m \u001b[43m    \u001b[49m\u001b[43m(\u001b[49m\u001b[43mwidgetName\u001b[49m\u001b[43m,\u001b[49m\u001b[43m \u001b[49m\u001b[38;5;28;43mself\u001b[39;49m\u001b[38;5;241;43m.\u001b[39;49m\u001b[43m_w\u001b[49m\u001b[43m)\u001b[49m\u001b[43m \u001b[49m\u001b[38;5;241;43m+\u001b[39;49m\u001b[43m \u001b[49m\u001b[43mextra\u001b[49m\u001b[43m \u001b[49m\u001b[38;5;241;43m+\u001b[39;49m\u001b[43m \u001b[49m\u001b[38;5;28;43mself\u001b[39;49m\u001b[38;5;241;43m.\u001b[39;49m\u001b[43m_options\u001b[49m\u001b[43m(\u001b[49m\u001b[43mcnf\u001b[49m\u001b[43m)\u001b[49m\u001b[43m)\u001b[49m\n\u001b[0;32m   2603\u001b[0m \u001b[38;5;28;01mfor\u001b[39;00m k, v \u001b[38;5;129;01min\u001b[39;00m classes:\n\u001b[0;32m   2604\u001b[0m     k\u001b[38;5;241m.\u001b[39mconfigure(\u001b[38;5;28mself\u001b[39m, v)\n",
      "\u001b[1;31mTclError\u001b[0m: can't invoke \"button\" command: application has been destroyed"
     ]
    }
   ],
   "source": [
    "#建立視窗\n",
    "\n",
    "from tkinter import *\n",
    "\n",
    "top = Tk()  #建一個GUI的框框\n",
    "# Code to add widgets will go here...(可以加入任何元素)\n",
    "\n",
    "#在上面建的top視窗中建一個文字方塊\n",
    "L1 = Label(top, text=\"User Name\")\n",
    "L1.pack( side = LEFT)\n",
    "E1 = Entry(top, bd =5)  #設一個Entry，就有一個可以輸入的空間\n",
    "E1.pack(side = RIGHT)\n",
    "\n",
    "\n",
    "#在視窗中建一個按鈕\n",
    "gui = Tk(className='Python GUI Tutorial - by TutorialKart')\n",
    "button = Button(gui, text='Submit', width=50, height=4, bg='#33CC33', fg='#FFFFFF', activebackground='#44DD44', activeforeground='#FFFFFF')\n",
    "button.pack()\n",
    "\n",
    "top.mainloop()"
   ]
  },
  {
   "cell_type": "code",
   "execution_count": null,
   "id": "34195712",
   "metadata": {},
   "outputs": [],
   "source": [
    "#建立文字區域，視窗內可以瘋狂打字\n",
    "\n",
    "from tkinter import *\n",
    "\n",
    "def onclick():\n",
    "    pass\n",
    "\n",
    "root = Tk()\n",
    "text = Text(root)\n",
    "text.insert(INSERT, \"Hello.....\")\n",
    "text.insert(END, \"Bye Bye.....\")\n",
    "text.pack()\n",
    "\n",
    "text.tag_add(\"here\", \"1.0\", \"1.4\")\n",
    "text.tag_add(\"start\", \"1.8\", \"1.13\")\n",
    "text.tag_config(\"here\", background=\"yellow\", foreground=\"blue\")  #設定背景參數\n",
    "text.tag_config(\"start\", background=\"black\", foreground=\"green\")\n",
    "root.mainloop()"
   ]
  },
  {
   "cell_type": "code",
   "execution_count": null,
   "id": "b54c23d1",
   "metadata": {},
   "outputs": [],
   "source": [
    "#建立卷軸\n",
    "\n",
    "from tkinter import *\n",
    "\n",
    "root = Tk()\n",
    "scrollbar = Scrollbar(root)\n",
    "scrollbar.pack( side = RIGHT, fill = Y )\n",
    "\n",
    "mylist = Listbox(root, yscrollcommand = scrollbar.set )\n",
    "for line in range(100):  #加入每個選項\n",
    "    mylist.insert(END, \"This is line number \" + str(line))\n",
    "\n",
    "mylist.pack( side = LEFT, fill = BOTH )\n",
    "scrollbar.config( command = mylist.yview )\n",
    "\n",
    "mainloop()"
   ]
  },
  {
   "cell_type": "code",
   "execution_count": null,
   "id": "a9be70cc",
   "metadata": {},
   "outputs": [],
   "source": [
    "#建立選項紐\n",
    "\n",
    "from tkinter import *\n",
    "\n",
    "def sel():\n",
    "    selection = \"You selected the option \" + str(var.get())\n",
    "    label.config(text = selection)\n",
    "\n",
    "root = Tk()\n",
    "var = IntVar()\n",
    "R1 = Radiobutton(root, text=\"Option 1\", variable=var, value=1,\n",
    "                  command=sel)\n",
    "R1.pack( anchor = W )\n",
    "\n",
    "R2 = Radiobutton(root, text=\"Option 2\", variable=var, value=2,\n",
    "                  command=sel)\n",
    "R2.pack( anchor = W )\n",
    "\n",
    "R3 = Radiobutton(root, text=\"Option 3\", variable=var, value=3,\n",
    "                  command=sel)\n",
    "R3.pack( anchor = W)\n",
    "\n",
    "label = Label(root)\n",
    "label.pack()\n",
    "root.mainloop()"
   ]
  },
  {
   "cell_type": "code",
   "execution_count": null,
   "id": "39a78179",
   "metadata": {},
   "outputs": [],
   "source": [
    "#建立核取方塊\n",
    "\n",
    "from tkinter import *\n",
    "import tkinter.messagebox\n",
    "\n",
    "top = Tk()\n",
    "CheckVar1 = IntVar()\n",
    "CheckVar2 = IntVar()\n",
    "C1 = Checkbutton(top, text = \"Music\", variable = CheckVar1, \\\n",
    "                 onvalue = 1, offvalue = 0, height=5, \\\n",
    "                 width = 20)\n",
    "C2 = Checkbutton(top, text = \"Video\", variable = CheckVar2, \\\n",
    "                 onvalue = 1, offvalue = 0, height=5, \\\n",
    "                 width = 20)\n",
    "C1.pack()\n",
    "C2.pack()\n",
    "top.mainloop()"
   ]
  },
  {
   "cell_type": "code",
   "execution_count": null,
   "id": "9031c3c2",
   "metadata": {},
   "outputs": [],
   "source": [
    "#建立對話框\n",
    "\n",
    "import tkinter\n",
    "from tkinter import messagebox\n",
    "\n",
    "# hide main window\n",
    "root = tkinter.Tk()\n",
    "root.withdraw()  #收回?\n",
    "\n",
    "# message box display\n",
    "messagebox.showerror(\"Error\", \"Error message\")\n",
    "messagebox.showwarning(\"Warning\",\"Warning message\")\n",
    "messagebox.showinfo(\"Information\",\"Informative message\")"
   ]
  },
  {
   "cell_type": "code",
   "execution_count": null,
   "id": "7860eb91",
   "metadata": {},
   "outputs": [],
   "source": [
    "#建立圖型\n",
    "\n",
    "from tkinter import *\n",
    "\n",
    "# pip install pillow\n",
    "from PIL import Image, ImageTk\n",
    "\n",
    "class Window(Frame):\n",
    "    def __init__(self, master=None):\n",
    "        Frame.__init__(self, master)\n",
    "        self.master = master\n",
    "        self.pack(fill=BOTH, expand=1)\n",
    "        \n",
    "        load = Image.open(\"cat.jpg\")  #把照片讀進來\n",
    "        render = ImageTk.PhotoImage(load)  #用TK.PhotoIMage把他load進來\n",
    "        img = Label(self, image=render)\n",
    "        img.image = render\n",
    "        img.place(x=0, y=0)\n",
    "\n",
    "        \n",
    "root = Tk()\n",
    "app = Window(root)\n",
    "root.wm_title(\"Tkinter window\")\n",
    "root.geometry(\"200x120\")\n",
    "root.mainloop()\n"
   ]
  },
  {
   "cell_type": "code",
   "execution_count": null,
   "id": "f62e752b",
   "metadata": {},
   "outputs": [],
   "source": [
    "#建立功能表\n",
    "\n",
    "from tkinter import *\n",
    "\n",
    "def donothing():\n",
    "    filewin = Toplevel(root)\n",
    "    button = Button(filewin, text=\"Do nothing button\")\n",
    "    button.pack()\n",
    "\n",
    "root = Tk()\n",
    "menubar = Menu(root)\n",
    "filemenu = Menu(menubar, tearoff=0)\n",
    "filemenu.add_command(label=\"New\", command=donothing)  #可以加很多的項目\n",
    "filemenu.add_command(label=\"Open\", command=donothing)\n",
    "filemenu.add_command(label=\"Save\", command=donothing)\n",
    "filemenu.add_command(label=\"Save as...\", command=donothing)\n",
    "filemenu.add_command(label=\"Close\", command=donothing)\n",
    "\n",
    "filemenu.add_separator()\n",
    "\n",
    "filemenu.add_command(label=\"Exit\", command=root.quit)\n",
    "menubar.add_cascade(label=\"File\", menu=filemenu)\n",
    "editmenu = Menu(menubar, tearoff=0)\n",
    "editmenu.add_command(label=\"Undo\", command=donothing)\n",
    "\n",
    "editmenu.add_separator()\n",
    "\n",
    "editmenu.add_command(label=\"Cut\", command=donothing)\n",
    "editmenu.add_command(label=\"Copy\", command=donothing)\n",
    "editmenu.add_command(label=\"Paste\", command=donothing)\n",
    "editmenu.add_command(label=\"Delete\", command=donothing)\n",
    "editmenu.add_command(label=\"Select All\", command=donothing)\n",
    "\n",
    "menubar.add_cascade(label=\"Edit\", menu=editmenu)\n",
    "helpmenu = Menu(menubar, tearoff=0)\n",
    "helpmenu.add_command(label=\"Help Index\", command=donothing)\n",
    "helpmenu.add_command(label=\"About...\", command=donothing)\n",
    "menubar.add_cascade(label=\"Help\", menu=helpmenu)\n",
    "\n",
    "root.config(menu=menubar)\n",
    "root.mainloop()"
   ]
  }
 ],
 "metadata": {
  "kernelspec": {
   "display_name": "Python 3 (ipykernel)",
   "language": "python",
   "name": "python3"
  },
  "language_info": {
   "codemirror_mode": {
    "name": "ipython",
    "version": 3
   },
   "file_extension": ".py",
   "mimetype": "text/x-python",
   "name": "python",
   "nbconvert_exporter": "python",
   "pygments_lexer": "ipython3",
   "version": "3.10.10"
  }
 },
 "nbformat": 4,
 "nbformat_minor": 5
}
