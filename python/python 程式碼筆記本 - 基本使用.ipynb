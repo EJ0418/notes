{
 "cells": [
  {
   "cell_type": "markdown",
   "metadata": {},
   "source": [
    "# [ Keyword ]"
   ]
  },
  {
   "cell_type": "markdown",
   "metadata": {},
   "source": [
    "- 顯示出python中的所有keyword"
   ]
  },
  {
   "cell_type": "code",
   "execution_count": null,
   "metadata": {},
   "outputs": [],
   "source": [
    "import keyword\n",
    "\n",
    "keyword.kwlist"
   ]
  },
  {
   "cell_type": "markdown",
   "metadata": {},
   "source": [
    "- 測試某'字串'是否為keyword："
   ]
  },
  {
   "cell_type": "code",
   "execution_count": null,
   "metadata": {},
   "outputs": [],
   "source": [
    "print(keyword.iskeyword('if'))\n",
    "keyword.iskeyword('IF')"
   ]
  },
  {
   "cell_type": "markdown",
   "metadata": {},
   "source": [
    "# [ 命名規則] - 變數/函數/類別\n",
    "    \n",
    "    \n",
    "    \n",
    "- 必須由A-Z、a-z、0-9、_組成\n",
    "- 第一個字元不可以是0-9\n",
    "- 大小寫有別\n",
    "- 不建議用keywords"
   ]
  },
  {
   "cell_type": "code",
   "execution_count": null,
   "metadata": {},
   "outputs": [],
   "source": [
    "print(\"abc\".isidentifier())  #檢查命名是否符合規則\n",
    "print(\"99a\".isidentifier())  # False\n",
    "print(\"_\".isidentifier())\n",
    "print(\"for\".isidentifier())  #系統檢查只會檢查前3項規則，keyword不會檢查，所以會顯示True，但實際不適合用"
   ]
  },
  {
   "cell_type": "markdown",
   "metadata": {},
   "source": [
    "# [ 變數 ] - 資料型態"
   ]
  },
  {
   "cell_type": "markdown",
   "metadata": {},
   "source": [
    "- [ 數字 ] (integer)(float)(complex)"
   ]
  },
  {
   "cell_type": "code",
   "execution_count": null,
   "metadata": {},
   "outputs": [],
   "source": [
    "a = 2  #(預設值為：0)\n",
    "b = 3.14159  #(預設值為：0.0)\n",
    "c = 1+2j # j 表示虛數\n",
    "d = 3.1232e3 # e 表示次方\n",
    "\n",
    "print(a)\n",
    "print(b)\n",
    "print(c)\n",
    "print(d)\n",
    "\n",
    "print(type(a))\n",
    "print(type(b))\n",
    "print(type(c))\n",
    "print(type(d))\n",
    "\n",
    "x = 0b0010  #0b、0B = 二進位\n",
    "y = 0o156  #0o = 八進位\n",
    "z = 0x12  #0x = 十二進位\n",
    "\n",
    "print(x)\n",
    "print(y)\n",
    "print(z)\n",
    "\n",
    "print(type(x))"
   ]
  },
  {
   "cell_type": "markdown",
   "metadata": {},
   "source": [
    "- [ 字串 ] (string)\n",
    "    * 預設值為：空\n",
    "    * 正常1個'或2個''都可以，但不知為啥這裡不行？"
   ]
  },
  {
   "cell_type": "code",
   "execution_count": null,
   "metadata": {},
   "outputs": [],
   "source": [
    "#預設值為：空\n",
    "#正常1個'或2個''都可以，但不知為啥這裡不行？a = 'abcdef'  \n",
    "\n",
    "print(type(a))\n",
    "\n",
    "\n",
    "##利用list取特定項字母\n",
    "print(a[0])  #print字串a中的第0項\n",
    "print(a[1])\n",
    "print(a[2])\n",
    "print('============')\n",
    "print(a[-1])  #print字串a中的倒數第1項\n",
    "print(a[-2])\n",
    "print(a[-3])\n",
    "\n",
    "print(a[3:7:2])  #從第3項到第6項，每2個print出來。[起始:結束:間隔]。初始值：[0:end:1]\n",
    "\n",
    "##逃脫字元\n",
    "print(a, '123')\n",
    "print(a,'\\\\', '123')  #1個'\\' 為逃脫字元，使\\不被認到，直接print出來\n",
    "print(a, '\\'', '123')  #print出一個'\n",
    "print(a, '\\n')  #\\n = 換行\n",
    "\n",
    "\n",
    "##字串 + 計算運算元：\n",
    "print(a[0] + a[5])\n",
    "print(a[0] * 2)"
   ]
  },
  {
   "cell_type": "markdown",
   "metadata": {},
   "source": [
    "- [ 真假值 ] (boolean)"
   ]
  },
  {
   "cell_type": "code",
   "execution_count": null,
   "metadata": {},
   "outputs": [],
   "source": [
    "#預設值為False\n",
    "#包含：True / False，兩種，True為非0，False為0\n",
    "\n",
    "a = True  \n",
    "b = 5\n",
    "c = 3\n",
    "\n",
    "print(type(a))\n",
    "print((b < c))"
   ]
  },
  {
   "cell_type": "markdown",
   "metadata": {},
   "source": [
    "# [ input ] 的功能介紹："
   ]
  },
  {
   "cell_type": "code",
   "execution_count": null,
   "metadata": {},
   "outputs": [],
   "source": [
    "number = input('input a number')\n",
    "print(type(number))  #直接print出number的type"
   ]
  },
  {
   "cell_type": "code",
   "execution_count": null,
   "metadata": {},
   "outputs": [],
   "source": [
    "number = input('input a number')\n",
    "float_number = float(number)  #轉成浮點數\n",
    "int_number = int(number)  #轉成整數\n",
    "print(type(float_number))\n",
    "print(type(int_number))"
   ]
  },
  {
   "cell_type": "markdown",
   "metadata": {},
   "source": [
    "# [ print ] 的功能介紹："
   ]
  },
  {
   "cell_type": "code",
   "execution_count": null,
   "metadata": {
    "scrolled": true
   },
   "outputs": [],
   "source": [
    "a = 2\n",
    "b = 's'\n",
    "print(a, 'apples')  #不同資料形式態可以用 , 黏合，會自動空白\n",
    "print(str(a) + ' apple' + b)  #用 + 黏合必須轉成同資料形態，要自己加空白"
   ]
  },
  {
   "cell_type": "code",
   "execution_count": null,
   "metadata": {},
   "outputs": [],
   "source": [
    "a = 'Hi, my name is Evelyn\\n'\n",
    "\n",
    "print(type(a))  #print a 字串的資料型態\n",
    "print(len(a))  #print a 字串的長度\n",
    "\n",
    "print('不換行', end='')  # end=''為不換行繼續print\n",
    "\n",
    "print('換行', end='\\n')  #換行再繼續print\n",
    "\n",
    "print('覆蓋牌', end='\\r')  #下一行print覆蓋這一行，返回行首\n",
    "\n",
    "print('不換行但多一個空格', end=' ')  #與後面print的東西中間加空格\n",
    "\n",
    "print('結束')\n",
    "\n",
    "print('')  #換個行\n",
    "\n",
    "print()  #加入空白行\n",
    "\n",
    "print(a.lower())  #將 a 字串全小寫化\n",
    "\n",
    "print(a.upper())  #將 a 字串全大寫化\n",
    "\n",
    "print(a.replace(' ','@'))  #將 a 字串中的'空格'轉成'@''。字串.replace('？','？')\n",
    "\n",
    "print(a.split(' '))  #將 a 字串中的詞依據'空格'分隔開來。字串.split('？')\n",
    "\n",
    "print(a.strip())  #將換行符拿掉\n",
    "\n",
    "print('end')\n",
    "\n",
    "\n",
    "#單行註解\n",
    "\n",
    "'''\n",
    "多行\n",
    "註解\n",
    "'''"
   ]
  },
  {
   "cell_type": "code",
   "execution_count": 1,
   "metadata": {},
   "outputs": [
    {
     "name": "stdout",
     "output_type": "stream",
     "text": [
      "a = 3, b = 2.1, c = hello\n",
      "a = 3, b = 2.1, c = hello\n",
      "a = hello, b = 2.1, c = 3\n",
      "3, 2.1\n"
     ]
    }
   ],
   "source": [
    "a = 3\n",
    "b = 2.1\n",
    "c = 'hello'\n",
    "\n",
    "print('a = {}, b = {}, c = {}'.format(a, b, c))  #{}.format(a) 自動填入a到空集合中，()中加入逗點可分別填入不同集合中\n",
    "print('a = {0}, b = {1}, c = {2}'.format(a, b, c))  #{}中的數字對應到format()中的第幾個變數\n",
    "print('a = {2}, b = {1}, c = {0}'.format(a, b, c))\n",
    "\n",
    "print('{text1}, {text2}'.format(text1=a, text2=b))  #也可以()中加等號來print變數"
   ]
  },
  {
   "cell_type": "code",
   "execution_count": null,
   "metadata": {},
   "outputs": [],
   "source": [
    "tupleX = ('xxx')  #只有一項，[位置]就會用字元計算\n",
    "tupleY = ('abc', 'edf')  #有2項，[位置]就會用整個字串計算\n",
    "print('{0[1]}, {1[1]}, {1[0]}'.format(tupleX, tupleY))  #{a[b]}，a是後方format()中的第幾項變數，b是這個變數中的第幾項東東"
   ]
  },
  {
   "cell_type": "markdown",
   "metadata": {},
   "source": [
    "- 輸出格式"
   ]
  },
  {
   "cell_type": "code",
   "execution_count": null,
   "metadata": {},
   "outputs": [],
   "source": [
    "print('{0:>10.2f}'.format(a))  #靠右顯示\n",
    "print('{0:^10.2f}'.format(a))  #置中顯示\n",
    "print('{0:<10.2f}'.format(a))  #靠左顯示\n",
    "\n",
    "print('{0:10d}'.format(a))  #預留10個空白print，以十進位表示。0是format()中的第幾個變數，10是預留幾個空白，d是decimal = 十進位\n",
    "print('{0:10f}'.format(a))  #預留10個空白print，以float表示，預設是顯示小數點以下第6位。輸出靠右顯示\n",
    "print('{0:10s}'.format(str(a))) #預留10個空白print，以string表示，format()內必須是字串\n",
    "\n",
    "print('int: {0:d}, bin: {0:b}, oct: {0:o}, hex: {0:x}'.format(a))  #寫成10進位/2進位/8進位/16進位\n",
    "print('int: {0:#d}, bin: {0:#b}, oct: {0:#o}, hex: {0:#x}'.format(a))  #加井字號讓輸出前面會出現0b/0o/0x，強調他的進位法\n",
    "\n",
    "print('{0:.2%}'.format(a))  #預留10個空白print，指定計算到小數點第2位，以百分比表示。\n",
    "print('{:,}'.format(158984))  #加逗號會讓數值每三位數多個','，像算$$一樣"
   ]
  },
  {
   "cell_type": "code",
   "execution_count": null,
   "metadata": {},
   "outputs": [],
   "source": [
    "import datetime\n",
    "\n",
    "d = datetime.datetime(2020, 1, 1, 12, 33, 43)\n",
    "print('{:%Y-%m-%d %H:%M:%S}'.format(d))  #%Y = 年、%m = 月、%d = 日、%H = 時、%M = 分、%S = 秒"
   ]
  },
  {
   "cell_type": "markdown",
   "metadata": {},
   "source": [
    "# [ 運算元 ]"
   ]
  },
  {
   "cell_type": "markdown",
   "metadata": {},
   "source": [
    "- [ 計算 ] 運算元"
   ]
  },
  {
   "cell_type": "code",
   "execution_count": null,
   "metadata": {},
   "outputs": [],
   "source": [
    "a = 1\n",
    "b = 2\n",
    "\n",
    "c = a + b\n",
    "\n",
    "d = a - b\n",
    "\n",
    "e = a * b\n",
    "\n",
    "f = a ** b  #計算 a 的 b 次方\n",
    "\n",
    "g = a / b  #計算 a 除以 b ，取小數\n",
    "\n",
    "h = a // b  #計算 a 除以 b ，取整數\n",
    "\n",
    "i = a % b  #計算 a 除以 b ，取餘數\n",
    "\n",
    "a += b  # a = a + b，其他算式依此類推，把舊的 a 取出來運算再複寫回原本的 a \n",
    "\n",
    "print(a, b, c, d, e, f, g, h, i)"
   ]
  },
  {
   "cell_type": "markdown",
   "metadata": {},
   "source": [
    "- [ 比較 ] 運算元"
   ]
  },
  {
   "cell_type": "code",
   "execution_count": null,
   "metadata": {},
   "outputs": [],
   "source": [
    "a = 5\n",
    "b = 3\n",
    "\n",
    "print((a == b))  #等於，跟 = 不一樣哦！ 1個 = 是給予定義，2個 == 是比較是否相等\n",
    "\n",
    "print((a != b))  #不等於\n",
    "\n",
    "print((a > b))  #大於\n",
    "\n",
    "print((a < b))  #小於\n",
    "\n",
    "print((a >= b))  #大於等於\n",
    "\n",
    "print((a <= b))  #小於等於"
   ]
  },
  {
   "cell_type": "markdown",
   "metadata": {},
   "source": [
    "- [ 邏輯 ] 運算元"
   ]
  },
  {
   "cell_type": "code",
   "execution_count": null,
   "metadata": {},
   "outputs": [],
   "source": [
    "a = True\n",
    "b = False\n",
    "\n",
    "print(a and b)  #要兩者是 True，答案才是 True\n",
    "\n",
    "print(a or b)  #其一有 True，答案就是 True\n",
    "\n",
    "print(not a)  #非 a"
   ]
  },
  {
   "cell_type": "markdown",
   "metadata": {},
   "source": [
    "- [ 成員 ] 運算元"
   ]
  },
  {
   "cell_type": "code",
   "execution_count": null,
   "metadata": {},
   "outputs": [],
   "source": [
    "a = 5\n",
    "b = [1, 2, 3, 5, 6]\n",
    "\n",
    "print(a in b)  #檢查 a 是否在 b 裡面\n",
    "\n",
    "print(a not in b)"
   ]
  },
  {
   "cell_type": "markdown",
   "metadata": {},
   "source": [
    "- [ 身分 ] 運算元"
   ]
  },
  {
   "cell_type": "code",
   "execution_count": null,
   "metadata": {},
   "outputs": [],
   "source": [
    "a = 'hello'\n",
    "b = 'hello'\n",
    "c =  5\n",
    "d = [2, 'hi']\n",
    "e = [2, 'hi']  #d 和 e 收集了很多東西，存的位置就不一樣了\n",
    "\n",
    "print(id(a))  #印出 a 存放的位置\n",
    "print(id(b))\n",
    "print(id(c))\n",
    "print(id(d))\n",
    "print(id(e))\n",
    "\n",
    "print(a is b)  #檢查兩個變數是否在記憶體的同一個位置\n",
    "print(a is not b)\n",
    "print(a is c)\n",
    "print(d is e)"
   ]
  },
  {
   "cell_type": "markdown",
   "metadata": {},
   "source": [
    "- [ 位元 ] 運算元"
   ]
  },
  {
   "cell_type": "code",
   "execution_count": null,
   "metadata": {},
   "outputs": [],
   "source": [
    "#用2進位的視角做運算\n",
    "#將兩者變數先轉為01位元，再做運算，運算完再轉乘10進位\n",
    "\n",
    "a = 10  # = 0b1010\n",
    "b = 4   = 0b0100\n",
    "\n",
    "print(a & b)  # = and，兩者為1，則運算為1\n",
    "\n",
    "print(a | b)  # = or，只要其一是1，運算就為1\n",
    "\n",
    "print(a ^ b)  # = Xor，只有其一是1時，運算才為1\n",
    "\n",
    "print(a << 2)  #將2進位數字左移：a 變成 0b1000\n",
    "\n",
    "print(b >> 2)  #將2進位數字右移：a 變成 0b0001"
   ]
  },
  {
   "cell_type": "markdown",
   "metadata": {},
   "source": [
    "# [ 清單 ] - list"
   ]
  },
  {
   "cell_type": "raw",
   "metadata": {},
   "source": [
    "用[]括住\n",
    "空清單： a = []\n",
    "內容物可改變，可重複"
   ]
  },
  {
   "cell_type": "code",
   "execution_count": null,
   "metadata": {},
   "outputs": [],
   "source": [
    "a = ['apple', 10.4, 1-3j]  #用','或' '隔開，內容是哪一中資料型態都可以。排序以'第0位'開始！\n",
    "\n",
    "print(a[0])  #取 a list中的第0位\n",
    "print(a[1])  #取 a list中的第1位\n",
    "print(a[-1])  #取 a list中的倒數第一位\n",
    "\n",
    "b = [1, 3, -2, 8, 9, -10]\n",
    "\n",
    "print(a+b) #將 b list家在 a list後方"
   ]
  },
  {
   "cell_type": "code",
   "execution_count": null,
   "metadata": {},
   "outputs": [],
   "source": [
    "b = [1, 3, -2, 3, 9, -10]\n",
    "\n",
    "print(b.count(3))  #數在 b list 中3出現的次數\n",
    "\n",
    "print(b.index(3))  #數在 b list 中第一個3出現的位置\n",
    "\n",
    "b.append(20)  #將20插入 b list 的最後面\n",
    "\n",
    "b.remove(3)  #將 b list 中的第一個3移除\n",
    "\n",
    "b.pop()  #將 b list 的最後一項拿掉\n",
    "\n",
    "b.insert(1, 100)  #將100插入在1的後方\n",
    "\n",
    "b.reverse()  #將 b list 整個反過來排序\n",
    "\n",
    "b.sort()  #將 b list 由小到大排序"
   ]
  },
  {
   "cell_type": "markdown",
   "metadata": {},
   "source": [
    "# [ Tuple ]"
   ]
  },
  {
   "cell_type": "raw",
   "metadata": {},
   "source": [
    "用()括住\n",
    "空tuple：a = ()\n",
    "相當於不可變更的list"
   ]
  },
  {
   "cell_type": "code",
   "execution_count": null,
   "metadata": {},
   "outputs": [],
   "source": [
    "a = (\"a\", \"b\" , \"c\")\n",
    "b = (1, 2, 3)\n",
    "\n",
    "print(len(a))\n",
    "print(a + b)"
   ]
  },
  {
   "cell_type": "markdown",
   "metadata": {},
   "source": [
    "# [ 集合 ] - set"
   ]
  },
  {
   "cell_type": "raw",
   "metadata": {},
   "source": [
    "用{}括住\n",
    "空集合： a = {}\n",
    "相當於不可重複的list，不會照順序"
   ]
  },
  {
   "cell_type": "code",
   "execution_count": null,
   "metadata": {},
   "outputs": [],
   "source": [
    "a = {'a', 'b', 'b', 'c', '123', '11', 11}  #會自動把重複的去除\n",
    "\n",
    "a.add('hey')  #在 a set 中加入'hey'，只能單項\n",
    "\n",
    "a.update('you', ['so', 'cute, baby.'])  #在 a set 中加入多項元素，沒有用[]括起來會變成加入單個字母，要加入字詞要用[]\n",
    "\n",
    "a.remove('123')\n",
    "print(a)\n",
    "\n",
    "x = a.pop()  #將 a list 的其中一項拿掉\n",
    "print(x)\n",
    "print(a)\n",
    "\n",
    "b = {'a', 'b', 'c', 'dude'}\n",
    "print(a & b)  #取2set的交集\n",
    "print(a | b)  #取2set的聯集\n",
    "print(list(b))  #可以轉成其他類型\n",
    "c = str(b)\n",
    "print(c)\n",
    "print(type(c))"
   ]
  },
  {
   "cell_type": "markdown",
   "metadata": {},
   "source": [
    "# [ 字典 ] - dictionary"
   ]
  },
  {
   "cell_type": "code",
   "execution_count": null,
   "metadata": {},
   "outputs": [],
   "source": [
    "a = {'x':100, 'y':60, 'z':80}  #定義'詞語'為：什麼？，並存到集合中\n",
    "\n",
    "print(len(a))\n",
    "print(a['x'])  #print出x為 什麼？\n",
    "\n",
    "a['l'] = 40  #在a dictionary 中加入'l'的定義\n",
    "a['l'] = a['l'] * 2  #將a dictionary 中的 'l'乘2\n",
    "print(a)\n",
    "\n",
    "print(a.values())  #將 a dicionary列出來？\n",
    "print(a.keys())  #將 a dictionary中的詞語列出\n",
    "\n",
    "a.pop(\"y\")  #將y詞語取出\n",
    "print(a)"
   ]
  },
  {
   "cell_type": "markdown",
   "metadata": {},
   "source": [
    "# [ 型別轉換 ] - casting"
   ]
  },
  {
   "cell_type": "code",
   "execution_count": null,
   "metadata": {},
   "outputs": [],
   "source": [
    "a = '1000'\n",
    "\n",
    "print(float(a))\n",
    "print(str(a))\n",
    "print(bool(a))\n",
    "print(list(a))\n",
    "print(tuple(a))\n",
    "print(set(a))\n",
    "\n",
    "b = list(a)\n",
    "print(str(b))\n",
    "print(str(' '.join(b)))  #用' '把 b list 中的元素串接起來，再轉成string，print出來"
   ]
  },
  {
   "cell_type": "markdown",
   "metadata": {},
   "source": [
    "# [ 條件式 ]"
   ]
  },
  {
   "cell_type": "markdown",
   "metadata": {},
   "source": [
    "- if / else / elif"
   ]
  },
  {
   "cell_type": "raw",
   "metadata": {},
   "source": [
    "if condition:\n",
    "    operation\n",
    "else:\n",
    "    other operation"
   ]
  },
  {
   "cell_type": "code",
   "execution_count": null,
   "metadata": {},
   "outputs": [],
   "source": [
    "grade = 95\n",
    "\n",
    "if grade > 90:  #if的條件為true會執行內部的指令，只做一次判讀\n",
    "    print('excellent')  #內部指令要縮排\n",
    "elif grade > 60:  #等於else中的if，如下\n",
    "    print('good')\n",
    "else:\n",
    "    if grade > 30:\n",
    "        print('so so')\n",
    "    else:  #else前面必須要有if，不能單獨存在\n",
    "        print('Fail')\n",
    "        \n",
    "print('excellent') if grade > 90 else print('Fail')  #也可以縮寫成這樣，但只能一層if else"
   ]
  },
  {
   "cell_type": "code",
   "execution_count": null,
   "metadata": {},
   "outputs": [],
   "source": [
    "a = 200\n",
    "b = 0\n",
    "c = 500\n",
    "if (a > b or a > c) and True:  #使用多判式，or一邊為true就執行，and兩邊為true才會執行\n",
    "    print(\"Always True\")\n",
    "\n",
    "if a:  #判斷式可以只打變數或數字，辨識真假值。非0數字都為true，0為false\n",
    "    print('t')\n",
    "if b:\n",
    "    print('f')\n",
    "if True:\n",
    "    print('T')"
   ]
  },
  {
   "cell_type": "markdown",
   "metadata": {},
   "source": [
    "# [ 迴圈 ]"
   ]
  },
  {
   "cell_type": "markdown",
   "metadata": {},
   "source": [
    "- while\n"
   ]
  },
  {
   "cell_type": "raw",
   "metadata": {},
   "source": [
    "while condition:  (while 的判斷式為true，會執行內部指令，會一直判讀。假如不符合條件，就不進行迴圈)\n",
    "    operation"
   ]
  },
  {
   "cell_type": "code",
   "execution_count": null,
   "metadata": {},
   "outputs": [],
   "source": [
    "while True:  #設判斷永遠為true，不論輸入什麼都會執行迴圈，為無限迴圈\n",
    "    x = input()\n",
    "    if x == '1':\n",
    "        print('continue')\n",
    "        continue  #不往下進行，直接跳回while重新判斷\n",
    "    elif x == '0':\n",
    "        print('you\\'re right')\n",
    "        break  #直接while跳出迴圈，往下進行\n",
    "    else:\n",
    "        print('enter')\n",
    "    print('still')\n",
    "print('end')"
   ]
  },
  {
   "cell_type": "code",
   "execution_count": null,
   "metadata": {},
   "outputs": [],
   "source": [
    "#猜數字遊戲\n",
    "\n",
    "answer = 3\n",
    "guess = 0\n",
    "\n",
    "while guess != answer:\n",
    "    guess = int(input('guess number: '))\n",
    "    if guess > answer:\n",
    "        print('guess smaller')\n",
    "    elif guess < answer:\n",
    "        print('guess bigger')\n",
    "    else:\n",
    "        print('BINGO！')"
   ]
  },
  {
   "cell_type": "code",
   "execution_count": null,
   "metadata": {},
   "outputs": [],
   "source": [
    "i = 0\n",
    "sumi = 0\n",
    "\n",
    "while i <= 100:  #設定條件\n",
    "    sumi = sumi + i\n",
    "    i = i + 1  #使層數一層一層提高\n",
    "#    print('sumi: {}, i: {}'.format(sumi, i))  #確定每一層的結果\n",
    "print('1+2+......+100 = {}'.format(sumi))"
   ]
  },
  {
   "cell_type": "markdown",
   "metadata": {},
   "source": [
    "- for"
   ]
  },
  {
   "cell_type": "raw",
   "metadata": {},
   "source": [
    "用來迭帶序列化的資料，例如list、tuple、dictionary\n",
    "for 變數 in 序列化資料：\n",
    "    operation\n",
    "operation 會將變數依照序列化資料一個一個帶入"
   ]
  },
  {
   "cell_type": "code",
   "execution_count": null,
   "metadata": {},
   "outputs": [],
   "source": [
    "for i in range(1, 10, 2):  #(起始, 結束, 間隔)\n",
    "    print(i, end=' ')"
   ]
  },
  {
   "cell_type": "code",
   "execution_count": null,
   "metadata": {},
   "outputs": [],
   "source": [
    "my_list = [10, -20, 15]\n",
    "for index, i in enumerate(my_list):  #enumerate可以同時列出 現在i的位置。前項變數為位置，後項為變數\n",
    "    print(index, i)"
   ]
  },
  {
   "cell_type": "code",
   "execution_count": null,
   "metadata": {},
   "outputs": [],
   "source": [
    "my_string = 'test123'\n",
    "for i in my_string:  #會一個一個字元抓出來\n",
    "    print(i)"
   ]
  },
  {
   "cell_type": "code",
   "execution_count": null,
   "metadata": {},
   "outputs": [],
   "source": [
    "my_dict = {'isaac':50, 'andy':80, 'judy':20}\n",
    "for i in my_dict:  #抓出詞\n",
    "    print(i)\n",
    "    \n",
    "for i in my_dict.values():  #後面加.values可以抓出詞的定義\n",
    "    print(i)"
   ]
  },
  {
   "cell_type": "code",
   "execution_count": null,
   "metadata": {},
   "outputs": [],
   "source": [
    "n=5\n",
    "for i in range(n):\n",
    "    for j in range(n):\n",
    "#        print('i: {}, j: {}'.format(i,j))\n",
    "        print('*', end='')\n",
    "    print('')"
   ]
  },
  {
   "cell_type": "code",
   "execution_count": null,
   "metadata": {},
   "outputs": [],
   "source": [
    "n=5\n",
    "for i in range(n):\n",
    "    for j in range(i):\n",
    "        print ('* ', end=\"\")\n",
    "    print('')\n",
    "\n",
    "for i in range(n,0,-1):\n",
    "    for j in range(i):\n",
    "        print('* ', end=\"\")\n",
    "    print('')"
   ]
  },
  {
   "cell_type": "markdown",
   "metadata": {},
   "source": [
    "# [ 例外處理 ]"
   ]
  },
  {
   "cell_type": "markdown",
   "metadata": {},
   "source": [
    "- python本身就有的例外"
   ]
  },
  {
   "cell_type": "code",
   "execution_count": null,
   "metadata": {},
   "outputs": [],
   "source": [
    "a = 3\n",
    "b = 2\n",
    "\n",
    "try:  #在這個區域發生例外的事件，就會跑到except區域\n",
    "    c = a/b\n",
    "except (ZeroDivisionError) as e:  #如果發生指定的錯誤，就會執行\n",
    "    print('error')\n",
    "else:\n",
    "    print('always execute')"
   ]
  },
  {
   "cell_type": "markdown",
   "metadata": {},
   "source": [
    "- 自製例外"
   ]
  },
  {
   "cell_type": "code",
   "execution_count": null,
   "metadata": {},
   "outputs": [],
   "source": [
    "my_passwd = 'isaac'\n",
    "if len(my_passwd) < 10:\n",
    "    raise Exception('password is too short')  #人工產生例外。raise 顯示例外訊息"
   ]
  },
  {
   "cell_type": "code",
   "execution_count": null,
   "metadata": {},
   "outputs": [],
   "source": [
    "my_passwd = 'isaac'\n",
    "assert len(my_passwd) > 10, 'password is too short'  #確定變數是否符合期望行為。assert 條件, 欲顯示的例外訊息(不滿足條件時會顯示)"
   ]
  }
 ],
 "metadata": {
  "kernelspec": {
   "display_name": "Python 3 (ipykernel)",
   "language": "python",
   "name": "python3"
  },
  "language_info": {
   "codemirror_mode": {
    "name": "ipython",
    "version": 3
   },
   "file_extension": ".py",
   "mimetype": "text/x-python",
   "name": "python",
   "nbconvert_exporter": "python",
   "pygments_lexer": "ipython3",
   "version": "3.10.10"
  }
 },
 "nbformat": 4,
 "nbformat_minor": 4
}
