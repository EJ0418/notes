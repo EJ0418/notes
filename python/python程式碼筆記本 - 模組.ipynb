{
 "cells": [
  {
   "cell_type": "markdown",
   "id": "bc8ec1ed",
   "metadata": {},
   "source": [
    "# [ CSV ]\n"
   ]
  },
  {
   "cell_type": "markdown",
   "id": "ad925961",
   "metadata": {},
   "source": [
    "常見的資料儲存格式\n",
    "- 每個Row是一行\n",
    "- 每個Column用','區隔\n",
    "\n",
    "用文字檔.txt 記事本key資料\n",
    "副檔名改成.csv\n",
    "就可以用excel打開"
   ]
  },
  {
   "cell_type": "markdown",
   "id": "abf6daf4",
   "metadata": {},
   "source": [
    "# [ 讀寫檔案 ]"
   ]
  },
  {
   "cell_type": "raw",
   "id": "79c1cd27",
   "metadata": {},
   "source": [
    "x = open(檔案名稱/路徑, 模式)\n",
    "x.close()\n",
    "\n",
    "模式有：\n",
    "r：Read mode\n",
    "w：Write mode  (會覆寫掉前面輸入的內容)\n",
    "a：Append mode (不會覆寫，會加入內容)"
   ]
  },
  {
   "cell_type": "code",
   "execution_count": null,
   "id": "264840c2",
   "metadata": {},
   "outputs": [],
   "source": [
    "f = open(\"english_new.txt\", \"r\")  #開啟檔案\n",
    "print(f.read(20))  #將檔案讀出來，指定20字\n",
    "print(f.readlines(5))  #把檔案中每一行當作一個元素，蒐集成list\n",
    "\n",
    "f.close()  #關閉檔案。記得要關！不然會一直開著，很浪費記憶體"
   ]
  },
  {
   "cell_type": "code",
   "execution_count": null,
   "id": "15026be8",
   "metadata": {},
   "outputs": [],
   "source": [
    "with open(\"english_new.txt\", \"r\") as f:  #用with就不用特別打.close()，結束時會自動關掉\n",
    "\n",
    "print('Name of the file: {}'.format(f.name))  #看檔案名稱\n",
    "print('Closed or not: {}'.format(f.closed))  #看檔案是否關閉。closed有加d!!\n",
    "print('mode: {}'.format(f.mode))  #看模式是什麼"
   ]
  },
  {
   "cell_type": "code",
   "execution_count": null,
   "id": "fc46fc16",
   "metadata": {},
   "outputs": [],
   "source": [
    "f = open(\"english_new.txt\", \"w\")\n",
    "print(f.write('abc'))  #寫一個f檔案，內容為abc\n",
    "\n",
    "f.close()"
   ]
  },
  {
   "cell_type": "code",
   "execution_count": null,
   "id": "52babc4c",
   "metadata": {},
   "outputs": [],
   "source": [
    "with open('csv_demo.csv', 'a') as f:\n",
    "    f.write('name,grade\\n')\n",
    "    f.write('isaac,60\\n')\n",
    "    f.write('andy,50\\n')  #把內容覆寫到csv_demo.csv這個檔案中"
   ]
  },
  {
   "cell_type": "markdown",
   "id": "af940e46",
   "metadata": {},
   "source": [
    "# [ 模組 ]"
   ]
  },
  {
   "cell_type": "markdown",
   "id": "058c9db3",
   "metadata": {},
   "source": [
    "[ Datetime ]：用來處理跟時間相關的模組"
   ]
  },
  {
   "cell_type": "raw",
   "id": "153a9c6b",
   "metadata": {},
   "source": [
    "%y：年份，西元年的後2碼，不包含世紀 - 23\n",
    "%Y：年份，西元年全碼(4碼) - 2023\n",
    "\n",
    "%m：月份，數字 - 4\n",
    "%b：月份，縮寫 - Apr\n",
    "%B：月份，全名 - April\n",
    "\n",
    "%d：日期，數字 - 18\n",
    "\n",
    "%w：星期，數字 - 2  **星期日是0\n",
    "%a：星期，縮寫 - Tue\n",
    "%A：星期，全名 - Tuesday\n",
    "\n",
    "%H：時，24小時制 - 20\n",
    "%I：時，12小時制 - 08\n",
    "\n",
    ".now：獲得現在時間\n",
    ".datetime.today()：獲得當地時間\n",
    ".strftime(格式)：使用指定格式print\n",
    ".timedelta(時間)：\n",
    ".year：取年\n",
    ".month：取月\n",
    ".date：取日"
   ]
  },
  {
   "cell_type": "code",
   "execution_count": null,
   "id": "1cad6f9c",
   "metadata": {},
   "outputs": [],
   "source": [
    "from datetime import datetime as dt  #dt = 從datetime模組中import datetime的函數\n",
    "print(dt.now())  #把現在的時間print出來 \n",
    "\n",
    "import datetime\n",
    "datetime_dt = datetime.datetime.today()  #前面的datetime代表使用import的datetime模組，後面的.datetime.today()代表取得當地時間\n",
    "datetime_str = datetime_dt.strftime(\"%Y@%m@%d %H:%M:%S\")  #用@來接日期\n",
    "print(datetime_str)\n",
    "\n",
    "time_delta = datetime.timedelta(hours=3)  #3小時，可用來計算時差\n",
    "\n",
    "print(time_delta)"
   ]
  },
  {
   "cell_type": "markdown",
   "id": "f8cfdbe1",
   "metadata": {},
   "source": [
    "[ Math ]：用來處理跟計算有關的模組"
   ]
  },
  {
   "cell_type": "raw",
   "id": "5a940ef3",
   "metadata": {},
   "source": [
    ".ceil(小數點)：無條件進位\n",
    ".floor(小數點)：無條件捨去\n",
    ".trunc(小數點)：無條件把小數捨去\n",
    ".fabs(小數點)：取float的絕對值\n",
    "\n",
    ".sqrt(數字)：開根號\n",
    ".sin(數字)：取sin值\n",
    ".cos(數字)：取cos值\n",
    "\n",
    ".log數字a(數字b)：取loga, b  (a只為2或10，預設為e 自然對數)\n",
    ".log(數字b, 數字c)：取logb, c\n",
    ".e：#取數學常數(歐拉數)？\n",
    ".exp(數字)：數字是e的幾次方\n",
    "\n",
    ".pi：取圓周率pi"
   ]
  },
  {
   "cell_type": "code",
   "execution_count": null,
   "id": "c6be4f35",
   "metadata": {},
   "outputs": [],
   "source": [
    "import math\n",
    "\n",
    "print(math.log(2))  #取loge, 2值\n",
    "print(math.log10(2))  #取log2,3\n",
    "print(math.log(25, 5))  #取log5, 25\n",
    "\n",
    "print(math.e)\n",
    "print(math.exp(2))  #2是e的幾次方\n",
    "\n",
    "print(math.fabs(-0.89))"
   ]
  },
  {
   "cell_type": "markdown",
   "id": "c3222dcf",
   "metadata": {},
   "source": [
    "[ Random ]：用來產生隨機亂數的模組"
   ]
  },
  {
   "cell_type": "code",
   "execution_count": null,
   "id": "e14ae7aa",
   "metadata": {},
   "outputs": [],
   "source": [
    "import random\n",
    "\n",
    "random.seed(10)  #使產生隨機亂數暫時是固定的，debug很好用\n",
    "print(random.random())\n",
    "print(random.randrange(3, 9))  #在3~9之間產生隨機亂數\n",
    "\n",
    "mylist = [\"apple\", \"banana\", \"cherry\"]\n",
    "random.shuffle(mylist)  #將list洗牌\n",
    "print(random.sample(mylist, k=2))  #從list中隨機取2元素出來\n",
    "print(random.choices(mylist, weights = [10, 1, 1], k = 14))  #weights代表權重，使每一個元素有對應的數字個"
   ]
  },
  {
   "cell_type": "markdown",
   "id": "e705bd65",
   "metadata": {},
   "source": [
    "[ OS ]：處理跟作業系統有關的模組"
   ]
  },
  {
   "cell_type": "raw",
   "id": "14fb4e2a",
   "metadata": {},
   "source": [
    ".system()：\n",
    ".environ()\n",
    ".getcwd()：cwd = current working directory，取當前資料夾路徑\n",
    ".getgid()\n",
    ".getuid()\n",
    ".getpid()\n",
    ".umask(mask)\n",
    ".uname()\n",
    ".chroot(path)\n",
    ".listdir(path)：取此資料夾裡所有檔案名稱\n",
    ".mkdir(path)：mkdir = make directory，建立資料夾\n",
    ".makedirs(path)\n",
    ".path.exists(檔案名稱)：檢查此檔案名稱是否存在\n",
    ".path.isfile(檔案名稱)：檢查此檔案名稱是否存在(跟exists一樣?)\n",
    ".environ.path()：把當前的電腦環境變數都print出來\n",
    "\n",
    ".rename(原檔案名稱, 欲改成的新檔案名稱)：改檔名\n",
    ".remove(檔案名稱)：刪除檔案"
   ]
  },
  {
   "cell_type": "code",
   "execution_count": null,
   "id": "9e27a003",
   "metadata": {},
   "outputs": [],
   "source": [
    "import os\n",
    "\n",
    "print(os.environ.get('PATH')) #取得環境變數內容\n",
    "print()\n",
    "\n",
    "print(os.path.expanduser('~'))   #取得家目錄路徑，'~'代表家目錄的意思"
   ]
  },
  {
   "cell_type": "markdown",
   "id": "2a2d9f4d",
   "metadata": {},
   "source": [
    "[ Shutil ]：處理檔案的 移動、複製、打包、壓縮、解壓"
   ]
  },
  {
   "cell_type": "raw",
   "id": "bf2757fd",
   "metadata": {},
   "source": [
    ".copy(src, dst)\n",
    ".copytree(欲複製的資料夾名稱, 複製後要取的新資料夾名稱)：複製資料夾，並重新命名\n",
    ".rmtree(資料夾名稱)：刪除資料夾\n",
    "\n",
    ".copystat(欲複製的檔案名稱, 複製後要取的新檔案名稱)：複製檔案，並重新命名\n",
    "\n",
    ".move(檔案名稱, 資料夾名稱)：將檔案移到資料夾中"
   ]
  },
  {
   "cell_type": "markdown",
   "id": "645b5b79",
   "metadata": {},
   "source": [
    "[ Json ]：將Json字串轉換成Json物件的模組，常用來做儲存資料、資料轉換的格式"
   ]
  },
  {
   "cell_type": "code",
   "execution_count": null,
   "id": "c4e90b94",
   "metadata": {},
   "outputs": [],
   "source": [
    "import json\n",
    "\n",
    "# 一個像 Json資料形式 的字串\n",
    "x =  '{ \"name\":\"jim\", \"age\":25, \"city\":\"Taiwan\"}'\n",
    "\n",
    "# 轉換json\n",
    "person = json.loads(x)  #轉換成字典的格式\n",
    "\n",
    "print(type(person)) #<class 'dict'>\n",
    "print(person)\n",
    "print(person['age']) #可以查age的參數\n",
    "\n",
    "\n",
    "data = json.dumps(person)  #轉換成字串的語法，並且屬於Json格式。.dumps可以將任何型態的東西轉乘Json型態\n",
    "\n",
    "print(type(data)) #<class 'str'>\n",
    "print(data) #{\"name\": \"jim\", \"age\": 25, \"city\": \"Taiwan\"}"
   ]
  },
  {
   "cell_type": "code",
   "execution_count": null,
   "id": "b6160987",
   "metadata": {},
   "outputs": [],
   "source": [
    "import json\n",
    "\n",
    "input_file = open('myjson.json')\n",
    "json_array = json.load(input_file)\n",
    "\n",
    "\n",
    "for item in json_array:\n",
    "    print(\"id:\" + item['id'])\n",
    "    print(\"name:\" + item['name'])"
   ]
  },
  {
   "cell_type": "markdown",
   "id": "ab94c641",
   "metadata": {},
   "source": [
    "[ Time ]：可以返回當前時間 (以1970年1月1號00:00 開始機算)"
   ]
  },
  {
   "cell_type": "code",
   "execution_count": null,
   "id": "d6931984",
   "metadata": {},
   "outputs": [],
   "source": [
    "import time\n",
    "\n",
    "seconds = time.time()  #計算 1970/1/1 00:00:00 至今的秒數\n",
    "print(seconds)\n",
    "\n",
    "local_time = time.ctime(seconds)  # 將秒數轉為本地時間\n",
    "print(\"本地時間：\", local_time)\n",
    "\n",
    "now = time.ctime()  #秀出現在時間\n",
    "print(\"現在時間：\", now)\n",
    "\n",
    "\n",
    "time.sleep(1.5)  #暫停 1.5 秒\n",
    "print(\"Stopped 1.5s\")  #等1.5秒後才會print出來\n",
    "\n",
    "\n",
    "t = time.localtime()  #取得 struct_time 格式的時間\n",
    "result = time.strftime(\"%m/%d/%Y, %H:%M:%S\", t)  #依指定格式輸出，像datetime一樣\n",
    "print(result)"
   ]
  },
  {
   "cell_type": "markdown",
   "id": "64edcb6e",
   "metadata": {},
   "source": [
    "[ sys ]：讓程式內某些參數可以直接被直譯器存取"
   ]
  },
  {
   "cell_type": "code",
   "execution_count": null,
   "id": "c056f9b0",
   "metadata": {},
   "outputs": [],
   "source": [
    "#輸入外部參數？\n",
    "\n",
    "import sys\n",
    "\n",
    "print(sys.argv[0])  #存取外部輸入的第0個參數\n",
    "print(sys.argy[2])  #存取外部輸入的第2個參數"
   ]
  },
  {
   "cell_type": "markdown",
   "id": "2170e37f",
   "metadata": {},
   "source": [
    "[ ZipFile ]：可以對zip檔案壓縮or解壓縮"
   ]
  },
  {
   "cell_type": "code",
   "execution_count": null,
   "id": "be1074a2",
   "metadata": {},
   "outputs": [],
   "source": [
    "from zipfile import ZipFile  #從zipfile模組中import ZipFile的函數，就可以在程式中使用ZipFile的程式碼\n",
    "\n",
    "file_name = 'files2.zip'\n",
    "\n",
    "with ZipFile(file_name, 'r') as zip:\n",
    "    zip.printdir()  #列出zip檔中的所有檔名\n",
    "    \n",
    "    print('extracting ...')\n",
    "    zip.extractall()  #.extractall可以對檔案解壓縮"
   ]
  },
  {
   "cell_type": "markdown",
   "id": "83305c30",
   "metadata": {},
   "source": [
    "[ Logging ]：有效的print東西，將print分級，可以只print重要的資訊"
   ]
  },
  {
   "cell_type": "raw",
   "id": "006e77a6",
   "metadata": {},
   "source": [
    "等級：\n",
    "NOTSET：0\n",
    "DEBUG：10, = logging.debug()\n",
    "INFO：20, = logging.info()\n",
    "WARNING：30, = logging.warning()\n",
    "ERROR：40, = logging.error()\n",
    "CRITICAL：50, = logging.critical()\n",
    "\n",
    "輸出格式：\n",
    "%(asctime)s：日期時間，YYYY-MM-DD HH:mm:SS,ms\n",
    "%(filename)s：模組檔名\n",
    "%(funcName)s：函數名稱\n",
    "%(levelname)s：日誌的等級名稱\n",
    "%(levelno)s：日誌的等級數值\n",
    "%(lineno)d：呼叫日致函數所在的行數\n",
    "%(message)s：訊息\n",
    "%(module)s：模組名稱\n",
    "%(name)s：logger的名稱\n",
    "%(pathname)s：檔案的完整路徑\n",
    "%(process)d：process ID\n",
    "%(thread)d：執行序ID\n",
    "%(threadName)s：執行序名稱"
   ]
  },
  {
   "cell_type": "code",
   "execution_count": 2,
   "id": "80323a24",
   "metadata": {},
   "outputs": [
    {
     "name": "stderr",
     "output_type": "stream",
     "text": [
      "WARNING:root:warning message\n",
      "ERROR:root:error message\n",
      "CRITICAL:root:critical message\n"
     ]
    }
   ],
   "source": [
    "import logging\n",
    "\n",
    "logging.basicConfig(level = logging.info)  #設定等級為info\n",
    "\n",
    "logging.debug('debug message')  #等級比info低，不會秀出來\n",
    "logging.info('info message')  #只要比info更嚴重的就會秀出來\n",
    "logging.warning('warning message')\n",
    "logging.error('error message')\n",
    "logging.critical('critical message')\n"
   ]
  },
  {
   "cell_type": "code",
   "execution_count": null,
   "id": "d257169b",
   "metadata": {},
   "outputs": [],
   "source": [
    "import logging\n",
    "\n",
    "for handler in logging.root.handlers[:]:  #清除前面跑過的logging\n",
    "    logging.root.removeHandler(handler)\n",
    "\n",
    "FORMAT = '%(asctime)s %(levelname)s: %(message)s'  #加上訊息的時間資訊\n",
    "logging.basicConfig(level=logging.DEBUG, format=FORMAT)\n",
    "\n",
    "logging.basicConfig(level=logging.DEBUG, filename='./myLog123.log', filemode='w', format=FORMAT)  #協助紀錄資訊\n",
    "\n",
    "logging.debug('debug message')\n",
    "logging.info('info message')\n",
    "logging.warning('warning message')\n",
    "logging.error('error message')\n",
    "logging.critical('critical message')"
   ]
  },
  {
   "cell_type": "markdown",
   "id": "b99a1e72",
   "metadata": {},
   "source": [
    "[ 執行緒 ]：就是正在執行的程式。"
   ]
  },
  {
   "cell_type": "markdown",
   "id": "066e115e",
   "metadata": {},
   "source": [
    "[ 子執行緒 ]：在主執行緒中呼叫的其他程式"
   ]
  },
  {
   "cell_type": "code",
   "execution_count": 13,
   "id": "b40cfee8",
   "metadata": {},
   "outputs": [
    {
     "name": "stdout",
     "output_type": "stream",
     "text": [
      "info of note process: <Popen: returncode: None args: 'notepad.exe'>\n"
     ]
    }
   ],
   "source": [
    "import subprocess\n",
    "note = subprocess.Popen('notepad.exe')  #後面輸入的程式就會是子執行緒，被執行\n",
    "print('info of note process:', note)"
   ]
  },
  {
   "cell_type": "code",
   "execution_count": 12,
   "id": "0c221e6f",
   "metadata": {
    "scrolled": true
   },
   "outputs": [
    {
     "name": "stdout",
     "output_type": "stream",
     "text": [
      "info of note process: <Popen: returncode: None args: 'notepad.exe'>\n"
     ]
    }
   ],
   "source": [
    "#上方程式碼的另外一種寫法\n",
    "from subprocess import Popen\n",
    "note = Popen('notepad.exe')\n",
    "print('info of note process: {}'.format(note))"
   ]
  },
  {
   "cell_type": "markdown",
   "id": "ad26ff57",
   "metadata": {},
   "source": [
    "[ 平行處裡 ]：主執行緒和子執行緒一起跑，不會像一般是一行一行跑完"
   ]
  },
  {
   "cell_type": "code",
   "execution_count": null,
   "id": "44174389",
   "metadata": {},
   "outputs": [],
   "source": [
    "import threading\n",
    "import time\n",
    "\n",
    "# 子執行緒的工作函數\n",
    "def job():\n",
    "    for i in range(5):\n",
    "        print(\"Child thread:\", i)\n",
    "        time.sleep(1)\n",
    "\n",
    "# 建立一個子執行緒\n",
    "t = threading.Thread(target = job)\n",
    "\n",
    "# 執行該子執行緒\n",
    "t.start()\n",
    "\n",
    "# 主執行緒繼續執行自己的工作\n",
    "for i in range(3):\n",
    "    print(\"Main thread:\", i)\n",
    "    time.sleep(1)\n",
    "\n",
    "# 等待 t 這個子執行緒結束\n",
    "t.join()\n",
    "\n",
    "print(\"Done.\")"
   ]
  },
  {
   "cell_type": "markdown",
   "id": "e209e6e8",
   "metadata": {},
   "source": [
    "# [ 第三方模組 ]\n",
    "(必須額外下指令安裝的模組，像是網路大神寫的模組、套件)"
   ]
  },
  {
   "cell_type": "raw",
   "id": "53b6a9c2",
   "metadata": {},
   "source": [
    "pip install 欲安裝的模組or套件名稱：安裝模組\n",
    "pip install 欲安裝的模組or套件名稱 == 1.x.x ：安裝指定版本\n",
    "pip install -U 欲安裝的模組or套件名稱：更新此套件\n",
    "pip uninstall 欲安裝的模組or套件名稱：移除此套件\n",
    "\n",
    "python -m pip install --upgrade pip：更新pip"
   ]
  },
  {
   "cell_type": "markdown",
   "id": "91ba63e7",
   "metadata": {},
   "source": [
    "[ Jieba ]：做中文斷詞用。有分精確模式、全引勤模式、搜尋模式，也可以手動增加特定詞彙"
   ]
  },
  {
   "cell_type": "raw",
   "id": "dd9dd31b",
   "metadata": {},
   "source": [
    "pip install jieba\n",
    "\n",
    "\n",
    "words = jieba.cut(content, cut_all=False)  ：精確模式。將句子最精確地切開，較適合文本分析。\n",
    "\n",
    "words = jieba.cut(content, cut_all=True)  ：全模式。把句子中所有的可以成詞的詞語都掃描出來, 速度快。會比精確模式斷的更細\n",
    "\n",
    "jieba.cut_for_search(Content)  ：搜索引擎模。在精確模式的基礎上對長詞再次切分，提高召回率，適合用於搜尋引擎分詞。 "
   ]
  },
  {
   "cell_type": "code",
   "execution_count": 2,
   "id": "3943bab0",
   "metadata": {},
   "outputs": [
    {
     "name": "stderr",
     "output_type": "stream",
     "text": [
      "Building prefix dict from the default dictionary ...\n"
     ]
    },
    {
     "name": "stdout",
     "output_type": "stream",
     "text": [
      "輸入： 足球運動需要大家一起來推廣，歡迎加入我們的行列！\n",
      "精確模式： "
     ]
    },
    {
     "name": "stderr",
     "output_type": "stream",
     "text": [
      "Dumping model to file cache C:\\Users\\EJ\\AppData\\Local\\Temp\\jieba.cache\n",
      "Loading model cost 0.944 seconds.\n",
      "Prefix dict has been built successfully.\n"
     ]
    },
    {
     "name": "stdout",
     "output_type": "stream",
     "text": [
      "足球/運動/需要/大家/一起/來/推廣/，/歡迎/加入/我們/的/行列/！/\n",
      "全模式： 足球/運/動/需要/大家/一起/來/推/廣/，/歡/迎/加入/我/們/的/行列/！/\n",
      "搜索引擎模式： 足球/運動/需要/大家/一起/來/推廣/，/歡迎/加入/我們/的/行列/！/"
     ]
    }
   ],
   "source": [
    "import jieba\n",
    "\n",
    "sentence = \"足球運動需要大家一起來推廣，歡迎加入我們的行列！\"\n",
    "\n",
    "print(\"輸入： {}\".format(sentence))\n",
    "\n",
    "words1 = jieba.cut(sentence, cut_all=False)  #精確模式\n",
    "words2 = jieba.cut(sentence, cut_all=True)  #全模式\n",
    "words3 = jieba.cut_for_search(sentence)  #搜尋引勤模式\n",
    "\n",
    "print(\"精確模式：\", end=' ')\n",
    "for word in words1:\n",
    "    print(word+'/', end='')\n",
    "\n",
    "print('')\n",
    "\n",
    "print(\"全模式：\", end=' ')\n",
    "for word in words2:\n",
    "    print(word+'/', end='')\n",
    "\n",
    "print('')\n",
    "\n",
    "print(\"搜索引擎模式：\", end=' ')\n",
    "for word in words3:\n",
    "    print(word+'/', end='')"
   ]
  },
  {
   "cell_type": "code",
   "execution_count": 3,
   "id": "bf2857cc",
   "metadata": {},
   "outputs": [
    {
     "name": "stdout",
     "output_type": "stream",
     "text": [
      "考試/即將/結束/\n",
      "考試/即將結束/"
     ]
    }
   ],
   "source": [
    "text = '考試即將結束'\n",
    "\n",
    "words1 = jieba.cut(text, cut_all=False)  #精確模式\n",
    "\n",
    "for word in words1:  #系統斷句\n",
    "    print(word+'/', end='')\n",
    "\n",
    "print('')\n",
    "\n",
    "# 加入字詞 jieba.add_word(word, freq=None, tag=None)\n",
    "jieba.add_word('即將結束', freq=None, tag=None)  #使'即將結束'為一個斷句\n",
    "\n",
    "# 載入自定義詞庫 jieba.load_userdict(file_path)\n",
    "jieba.load_userdict('dict.txt')  #如果有很多詞想要自己定義斷句，就寫進dict.txt，call這行就可以把裡面的詞都斷在一起。\n",
    "#dict.txt裡，格式：欲定義的斷句詞 權重 詞性。 *BUT 詞性似乎沒有太大的用途\n",
    "\n",
    "words1 = jieba.cut(text, cut_all=False)\n",
    "for word in words1:\n",
    "    print(word+'/', end='')"
   ]
  },
  {
   "cell_type": "markdown",
   "id": "400a4757",
   "metadata": {},
   "source": [
    "[ Pillow ]：處裡圖像相關的模組"
   ]
  },
  {
   "cell_type": "raw",
   "id": "261b1ee0",
   "metadata": {},
   "source": [
    "變數 = Image.open(圖像名稱)：讀取圖像\n",
    "Image.FLIP_LEFT_RIGHT：左右翻轉\n",
    "Image.FLIP_TOP_DOWN：上下翻轉\n",
    "Image.ROTATE_90：旋轉90度\n",
    "Image.ROTATE_180：旋轉180度\n",
    "Image.ROTATE_270：旋轉270度\n",
    "\n",
    "\n",
    "變數.show()：把指定圖像show出來\n",
    ".resize(參數, Image.BILINEAR)  #調整圖像\n",
    ".save(圖像名稱)：儲存圖像\n",
    ".transpose"
   ]
  },
  {
   "cell_type": "code",
   "execution_count": null,
   "id": "61bd58b6",
   "metadata": {},
   "outputs": [],
   "source": [
    "from PIL import Image\n",
    "\n",
    "im = Image.open(\"cat.jpg\")  #把Cat.jpg讀進來\n",
    "print(im)\n",
    "print(im.size)  #print圖片的長跟寬\n",
    "\n",
    "im.show()  #把圖片秀出來？\n",
    "\n",
    "width = 400\n",
    "height = 200\n",
    "nim = im.resize( (width, height), Image.BILINEAR )  #調整長寬\n",
    "print(nim.size)\n",
    "nim.save(\"cat_resized.jpg\")  #儲存變更後的圖片\n",
    "\n",
    "imgR = im.transpose(Image.ROTATE_180)  #旋轉圖片\n",
    "imgR.save(\"cat_R180.jpg\")\n",
    "print(imgR)\n",
    "\n",
    "im.save(\"test.png\")  #轉存成.png"
   ]
  },
  {
   "cell_type": "markdown",
   "id": "01d78b1b",
   "metadata": {},
   "source": [
    "[ Pytube ]：python中可以下載youtube的模組"
   ]
  },
  {
   "cell_type": "code",
   "execution_count": null,
   "id": "b399145d",
   "metadata": {},
   "outputs": [],
   "source": [
    "from pytube import YouTube\n",
    "\n",
    "link = 'https://www.youtube.com/watch?v=eIib9hh2UCE'      #想下載的影片連結\n",
    "YouTube(link).streams.get_highest_resolution().download() #下載連結影片，以最高畫質"
   ]
  },
  {
   "cell_type": "markdown",
   "id": "7701a10d",
   "metadata": {},
   "source": [
    "[ QRcode ]：將網站連結製作成QRcode"
   ]
  },
  {
   "cell_type": "code",
   "execution_count": 4,
   "id": "2c1c28e1",
   "metadata": {},
   "outputs": [],
   "source": [
    "import qrcode\n",
    "\n",
    "input_data = \"https://isaac60103.github.io/\"  #要製作的QRcode\n",
    "\n",
    "qr = qrcode.QRCode(  #設定qrcode參數\n",
    "        version=1,  #版本\n",
    "        box_size=10,  #大小\n",
    "        border=5)  #邊框粗度\n",
    "qr.add_data(input_data)\n",
    "qr.make(fit=True)\n",
    "img = qr.make_image(fill='black', back_color='white')  #qrcode黑色，背景白色\n",
    "img.save('qrcode001.png')"
   ]
  },
  {
   "cell_type": "markdown",
   "id": "4f1cf922",
   "metadata": {},
   "source": [
    "[ Tesseract ]：處裡OCR，光學字元辨識，將圖片中的文字辨識出來"
   ]
  },
  {
   "cell_type": "code",
   "execution_count": 11,
   "id": "ccbda465",
   "metadata": {},
   "outputs": [
    {
     "name": "stdout",
     "output_type": "stream",
     "text": [
      "BREAKING THE STATUE\n",
      "\n",
      "i have always known\n",
      "\n",
      "i just didn't understand\n",
      "the inner conflictions\n",
      "arresting our hands\n",
      "gravitating close enough\n",
      "expansive distamce between\n",
      "i couldn't give you more\n",
      "but i meant everything\n",
      "when the day comes\n",
      "\n",
      "you find your heart\n",
      "\n",
      "wants something more\n",
      "\n",
      "than a viece and a part\n",
      "your life will change\n",
      "like astatue set free\n",
      "\n",
      "to walk among us\n",
      "\n",
      "to created estiny\n",
      "\n",
      "we didn't break any rules\n",
      "we didn't make mistakes\n",
      "making beauty in loving\n",
      "making lovine for days\n",
      "\n",
      "SHILOW\n",
      "\n"
     ]
    }
   ],
   "source": [
    "# download binary \n",
    "# https://github.com/UB-Mannheim/tesseract/wiki  (要先去網站下載執行檔)\n",
    "from PIL import Image\n",
    "import pytesseract\n",
    "\n",
    "pytesseract.pytesseract.tesseract_cmd = 'C:/Users/EJ/AppData/Local/Programs/Tesseract-OCR/tesseract.exe'\n",
    " #路徑直接複製過來會用'\\'隔開'，要換成'/'才能執行\n",
    "    \n",
    "image = Image.open(\"test.jpeg\")\n",
    "code = pytesseract.image_to_string(image)\n",
    "print(code)"
   ]
  },
  {
   "cell_type": "markdown",
   "id": "e95a2a82",
   "metadata": {},
   "source": [
    "# [ 自定義模組 ]"
   ]
  },
  {
   "cell_type": "markdown",
   "id": "e20f270f",
   "metadata": {},
   "source": [
    "可以自定義一個自己寫的模組，只要存成.py檔，就可以匯入使用"
   ]
  },
  {
   "cell_type": "code",
   "execution_count": null,
   "id": "5bdf3596",
   "metadata": {},
   "outputs": [],
   "source": [
    "import makefood\n",
    "makefood.say_hello()\n",
    "makefood.make_drink('large','cola')  #執行makefood模組中，定義的make_drinkc函數中的程式碼"
   ]
  }
 ],
 "metadata": {
  "kernelspec": {
   "display_name": "Python 3 (ipykernel)",
   "language": "python",
   "name": "python3"
  },
  "language_info": {
   "codemirror_mode": {
    "name": "ipython",
    "version": 3
   },
   "file_extension": ".py",
   "mimetype": "text/x-python",
   "name": "python",
   "nbconvert_exporter": "python",
   "pygments_lexer": "ipython3",
   "version": "3.10.10"
  }
 },
 "nbformat": 4,
 "nbformat_minor": 5
}
