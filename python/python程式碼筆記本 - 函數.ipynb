{
 "cells": [
  {
   "cell_type": "markdown",
   "id": "9cb406e9",
   "metadata": {},
   "source": [
    "# [ 正規表達式法 ] - Regular Expression\n",
    "用來抓取符合指定規則的字串"
   ]
  },
  {
   "cell_type": "raw",
   "id": "2fd0e96f",
   "metadata": {},
   "source": [
    "(python內建re模組，不用再自己import)？？\n",
    "\n",
    "\\ = 逃脫字元\n",
    ". = 任意字元\n",
    "\n",
    "^、\\A= 起始元素\n",
    "$、\\Z = 最後元素\n",
    "\\B = 除了最後元素以外的所有元素\n",
    "\n",
    "\\d = 數字0~9的字元 = [0-9] = [0123456789]\n",
    "\\D = 非數字0~9的字元\n",
    "\\w = 數字0~9、大小寫字母、底線的字元\n",
    "\\W = 非數字0~9、大小寫字母、底線的字元\n",
    "\\s = 空白鍵\n",
    "\n",
    "* = 前面的字元出現 0~多次\n",
    "？ = 前面的字元出現 0~1次\n",
    "+ = 前面的字元出現 1~多次\n",
    "\n",
    "{n} = 前面的字元'剛好'出現n次\n",
    "{n,} = 前面的字元'至少'出現n次。','後面不可以有空白！！\n",
    "{n, m} = 前面的字元'至少'出現n次，'最多'出現m次\n",
    "\n",
    "re.match：從第一個字元開始比對，只要第一個元素不符合就錯\n",
    "re.search：比對字串中任何地方，只抓一個出來\n",
    "re.findall：把所有符合的元素抓出來\n",
    "('指定條件', 欲比對的變數)  條件可以直接用打的或使用變數，或使用以上代號"
   ]
  },
  {
   "cell_type": "code",
   "execution_count": null,
   "id": "444285bc",
   "metadata": {},
   "outputs": [],
   "source": [
    "import re\n",
    "\n",
    "txt1 = \"The rain in Spain\"\n",
    "txt2 = \"ABC123 The rain in Spain\"\n",
    "\n",
    "x = re.match(\"^The.*Spain$\", txt1)  #以The為起始，中間任意字元出現0~多次，最後以Spain結尾\n",
    "y = re.match(\"^The.*Spain$\", txt2)  #match第一個字元不符合就no了"
   ]
  },
  {
   "cell_type": "code",
   "execution_count": null,
   "id": "0f885211",
   "metadata": {},
   "outputs": [],
   "source": [
    "import re\n",
    "\n",
    "txt = '0983-758-119, 02-2934-2741'\n",
    "x = re.match('\\d*', txt)  #從第一個字元開始比對txt字串是否有：數字0~9，出現0~多次。\n",
    "y = re.search('4', txt)  #從第一個字元開始比對，可以比對所有元素是否有：4\n",
    "z = re.findall('(\\d{4})-(\\d{3})-(\\d{3})', txt)  #把所有符合的元素抓出來\n",
    "\n",
    "print(x)  #因為'-'不算是\\d，所以只算4個位置\n",
    "print(y)  #只抓第一個符合的\n",
    "print(z)  #可以把中間接起來\n",
    "\n",
    "print(y.start())  #print在哪個位置找到的，以字元去數"
   ]
  },
  {
   "cell_type": "code",
   "execution_count": null,
   "id": "5eb72d96",
   "metadata": {},
   "outputs": [],
   "source": [
    "p = \"a+b*c\"  # a 出現1~多次； b 出現0~多； c 只出現1次\n",
    "a = \"[1-3]+\"  #1~3的數字出現1~多次\n",
    "t = \"[dor]mit\"  # dmit、omit、rmit\n",
    "t = \"isa{2,5}c\"  # isaac、isaaac、isaaaac，a出現2~4次\n",
    "e = \"[A-Z]+[a-z]\"  #大寫字母出現1~多次 and 以小寫字母結尾\n",
    "r = \"\\..{2}\"  #.py、.tw之類的，出現.和2任意字元\n",
    "n = 'a|b'  #有a或b\n",
    "\n",
    "string = 'aabc, ac, aabbccc abb, dd'\n",
    "\n",
    "a = re.findall(p, string)  #條件可以使用變數\n",
    "print(a)"
   ]
  },
  {
   "cell_type": "markdown",
   "id": "aae2e71a",
   "metadata": {},
   "source": [
    "# [ 內建函數 ]"
   ]
  },
  {
   "cell_type": "raw",
   "id": "b930f9c7",
   "metadata": {},
   "source": [
    "abs：絕對值\n",
    "bool：真假值\n",
    "divmod：計算除法商數&餘數\n",
    "len：計算字符長度\n",
    "pow：計算次方\n",
    "round：四捨五入(只看小數點後一位)\n",
    "sum：計算總和\n",
    "ord：把字元轉換成ASCII編碼\n",
    "chr：把ASCII編碼轉換成對應的字元\n",
    "eval：進行四則運算\n",
    "\n",
    "型別轉換也是"
   ]
  },
  {
   "cell_type": "code",
   "execution_count": null,
   "id": "4bc290fd",
   "metadata": {},
   "outputs": [],
   "source": [
    "l = [1, 2, 3, 4, 5]\n",
    "print(sum(l))\n",
    "print(min(l))\n",
    "print(max(l))\n",
    "\n",
    "print(abs(-5))\n",
    "\n",
    "print(round(3.5))\n",
    "\n",
    "print(pow(5, 2))  #計算5的2次方\n",
    "\n",
    "print(divmod(10, 3))  #計算10除以3，(商數, 餘數)\n",
    "\n",
    "print(bin(10))\n",
    "print(oct(10))\n",
    "print(hex(10))\n",
    "\n",
    "print(ord('A'))\n",
    "print(chr(65))\n",
    "\n",
    "d = '(a+10)*3'\n",
    "print(eval(d))"
   ]
  },
  {
   "cell_type": "markdown",
   "id": "fd33cbb7",
   "metadata": {},
   "source": [
    "# [ 自定義函數 ]"
   ]
  },
  {
   "cell_type": "raw",
   "id": "9d0abe5e",
   "metadata": {},
   "source": [
    "def 函數名稱(欲輸入的參數)\n",
    "    欲執行的程式碼"
   ]
  },
  {
   "cell_type": "code",
   "execution_count": 1,
   "id": "2727b984",
   "metadata": {},
   "outputs": [
    {
     "name": "stdout",
     "output_type": "stream",
     "text": [
      "hello baby 0\n",
      "hello Evelyn 22\n"
     ]
    }
   ],
   "source": [
    "def who(name, age = str(0)):  #可以設定預設值\n",
    "    print('hello '+ name, age)\n",
    "\n",
    "who('baby')  #沒特別輸入age就會顯示預設值\n",
    "who('Evelyn', 22)"
   ]
  },
  {
   "cell_type": "code",
   "execution_count": null,
   "id": "69b3793a",
   "metadata": {},
   "outputs": [],
   "source": [
    "def like(*food):  #*代表參數數量不固定，可以丟很多個\n",
    "    print(food)  #food會變成tuple\n",
    "    \n",
    "like('ramen', 'steak', 'hotpot')\n",
    "like('鍋燒意麵')"
   ]
  },
  {
   "cell_type": "code",
   "execution_count": null,
   "id": "daa06433",
   "metadata": {},
   "outputs": [],
   "source": [
    "def myscore(**subject):  #形成dictionary\n",
    "    print(subject)\n",
    "\n",
    "myscore(生理 = 58.75, 血液 = 67.5, 鏡檢 = 66.25, 微生物 = 65, 生化 = 71.25, 血免 = 70)"
   ]
  },
  {
   "cell_type": "code",
   "execution_count": null,
   "id": "86526746",
   "metadata": {},
   "outputs": [],
   "source": [
    "def sum_number(a, b):\n",
    "    add = a + b\n",
    "    minus = a - b\n",
    "    return add, minus #return會立刻跳出函數，回傳結果。沒有寫的話會自動回傳return None\n",
    "    print('aa')\n",
    "\n",
    "print(sum_number(3,5))"
   ]
  },
  {
   "cell_type": "markdown",
   "id": "bc5b7409",
   "metadata": {},
   "source": [
    "- 主程式"
   ]
  },
  {
   "cell_type": "code",
   "execution_count": null,
   "id": "99414725",
   "metadata": {},
   "outputs": [],
   "source": [
    "def main():  #主程式寫在裡面\n",
    "    print('main function')\n",
    "    printHello('isaac')\n",
    "    \n",
    "def printHello(text):  #另外call的程式可以另外寫\n",
    "    print('hello '+text)\n",
    "\n",
    "if __name__ == \"__main__\":  #判斷是否為主程式，執行主程式\n",
    "    main()"
   ]
  },
  {
   "cell_type": "markdown",
   "id": "f26512fd",
   "metadata": {},
   "source": [
    "- 全域變數 v.s. 區域變數"
   ]
  },
  {
   "cell_type": "code",
   "execution_count": null,
   "id": "ee0eb714",
   "metadata": {},
   "outputs": [],
   "source": [
    "x = 3  #全域變數，哪裡都取的到，公共財的概念\n",
    "def sum_number(y):  #區域變數，只有在函數中才能被辨認，外面任不到\n",
    "    global x  #告知取全域變數的x\n",
    "    num_sum = x + y\n",
    "    return num_sum\n",
    "    \n",
    "print(sum_number(5))\n",
    "print(x)\n",
    "print(y)  #函數外認不到y"
   ]
  },
  {
   "cell_type": "markdown",
   "id": "9b7da5b7",
   "metadata": {},
   "source": [
    "- 遞迴\n",
    "(可以呼叫自己！)"
   ]
  },
  {
   "cell_type": "code",
   "execution_count": null,
   "id": "bb5d47a6",
   "metadata": {},
   "outputs": [],
   "source": [
    "#python 有預設遞迴的極限次數\n",
    "\n",
    "import sys\n",
    "print(sys.getrecursionlimit())  #顯示預設次數為多少\n",
    "\n",
    "sys.setrecursionlimit(4000)  #可以自己變更遞迴極限次數"
   ]
  },
  {
   "cell_type": "code",
   "execution_count": null,
   "id": "5da822a3",
   "metadata": {},
   "outputs": [],
   "source": [
    "def factorial(n):\n",
    "    classn = 1\n",
    "    for i in range(1, n+1):\n",
    "        classn *= i\n",
    "    return(classn)\n",
    "\n",
    "n = int(input())\n",
    "print(factorial(n))\n",
    "\n",
    "##相當於：\n",
    "\n",
    "a = int(input())\n",
    "print(5 * factorial(a))\n",
    "\n",
    "b = int(input())\n",
    "print(5 * 4 * factorial(b))\n",
    "\n",
    "c = int(input())\n",
    "print(5 * 4 * 3 * factorial(c))\n",
    "\n",
    "d = int(input())\n",
    "print(5 * 4 * 3 * 2 * factorial(d))\n",
    "\n",
    "print(5 * 4 * 3 * 2 * 1 )"
   ]
  },
  {
   "cell_type": "code",
   "execution_count": null,
   "id": "5e51a2d3",
   "metadata": {},
   "outputs": [],
   "source": [
    "def fact(n):\n",
    "    \"\"\"Recursive function to find factorial\"\"\"\n",
    "    if n == 1:\n",
    "        return 1\n",
    "    else:\n",
    "        return (n * fact(n - 1))  #算式裡call自己\n",
    "a = 6\n",
    "print(\"Factorial of\", a, \"=\", fact(a))"
   ]
  },
  {
   "cell_type": "markdown",
   "id": "dbcb8b7d",
   "metadata": {},
   "source": [
    "- 動態規劃"
   ]
  },
  {
   "cell_type": "code",
   "execution_count": null,
   "id": "f54d618b",
   "metadata": {},
   "outputs": [],
   "source": [
    "##原本 計算費氏數列\n",
    "\n",
    "def F(n):\n",
    "    if n == 0 or n == 1:\n",
    "        return n\n",
    "    else:\n",
    "        return F(n-1)+F(n-2)\n",
    "    \n",
    "print(F(6))\n",
    "\n",
    "##運用動態規劃，可以儲存每一步子問題的結果於記憶體中，不用再重複計算，節省時間\n",
    "\n",
    "def fibonacciVal(n):\n",
    "    memo = [None] * (n+1)\n",
    "    memo[0], memo[1] = 0, 1\n",
    "    for i in range(2, n+1):\n",
    "        memo[i] = memo[i-1] + memo[i-2]\n",
    "    print(memo)\n",
    "    return memo[n]\n",
    "\n",
    "print(fibonacciVal(8))"
   ]
  },
  {
   "cell_type": "markdown",
   "id": "bbb3d14e",
   "metadata": {},
   "source": [
    "# [ 匿名函數 ]\n",
    "(使用一行就完成函數的定義)"
   ]
  },
  {
   "cell_type": "code",
   "execution_count": null,
   "id": "ffe694ea",
   "metadata": {},
   "outputs": [],
   "source": [
    "函數名稱 = lambda 欲輸入的參數:欲執行的程式碼    #(輸入函數:輸出函數)\n",
    "\n",
    "filter(條件, 欲查的元素)\n",
    "\n",
    "map(函數, 欲轉換的元素)\n",
    "\n",
    "reduce(元素, 欲帶入元素並執行的程式碼"
   ]
  },
  {
   "cell_type": "code",
   "execution_count": null,
   "id": "848f17d6",
   "metadata": {},
   "outputs": [],
   "source": [
    "product = lambda x, y: x * y  #輸入product這個函數時，將輸入的x和y參數，執行x*y\n",
    "print(product(5,13))"
   ]
  },
  {
   "cell_type": "code",
   "execution_count": null,
   "id": "f3e6caaa",
   "metadata": {},
   "outputs": [],
   "source": [
    "my_list = [1,2,3,4,5,6,7,8,9,10]\n",
    "odd_list =list(filter(lambda x:(x %2 == 1), my_list))  #filter可以篩選出符合條件的元素\n",
    "print(odd_list)"
   ]
  },
  {
   "cell_type": "code",
   "execution_count": null,
   "id": "52a70e1e",
   "metadata": {},
   "outputs": [],
   "source": [
    "my_list = [5, 10 ,15, 20, 25, 30]\n",
    "sqrt_list = list(map(lambda x: x**2, my_list))  #map可以將每個元素做轉換\n",
    "print(sqrt_list)"
   ]
  },
  {
   "cell_type": "code",
   "execution_count": null,
   "id": "71d36a3a",
   "metadata": {},
   "outputs": [],
   "source": [
    "from functools import reduce\n",
    "my_list = [5, 8, 10, 20, 50, 100] \n",
    "reduce_result = reduce(lambda x,y: x+y, my_list)  #reduce可以將每個元素做拆解/合併，可以自動帶入後續的元素\n",
    "print(reduce_result) #(((((5+8)+10)+20)+50)+100)"
   ]
  },
  {
   "cell_type": "markdown",
   "id": "0efafa7c",
   "metadata": {},
   "source": [
    "# [ 定義類別 ] - Class\n",
    "\n",
    "- class 裡的變數叫attribute，取用時要加：self.xxx\n",
    "- class 裡的函數叫method，第一個參數必須為self"
   ]
  },
  {
   "cell_type": "code",
   "execution_count": null,
   "id": "4931d4ce",
   "metadata": {},
   "outputs": [],
   "source": [
    "class Banks():  #欲定義之類別名稱，第一個字母要大寫\n",
    "    ''' 定義銀行類別 '''\n",
    "    bankname = 'Taipei Bank'    # 定義屬性，attribute。當輸入x.bankname時，輸出'Taipei Bank'\n",
    "    \n",
    "    def motto(self):            # 定義方法，method，第一個變數必須加self。當輸入x.motto(元素)時，執行以下程式碼\n",
    "        return \"以客為尊\"\n",
    "    \n",
    "userbank = Banks()              # 定義物件userbank\n",
    "print(\"目前服務銀行是 \", userbank.bankname)\n",
    "print(\"銀行服務理念是 \", userbank.motto())"
   ]
  },
  {
   "cell_type": "code",
   "execution_count": null,
   "id": "4005fd94",
   "metadata": {},
   "outputs": [],
   "source": [
    "class Banks():\n",
    "    ''' 定義銀行類別 '''\n",
    "    bankname = 'Taipei Bank'                # 定義屬性\n",
    "    \n",
    "    def __init__(self, uname, money):  # __init__用途是：當class被創建時，自動執行，不用在底下特別輸入函數名稱呼叫函數才執行\n",
    "        self.name = uname                   # 設定存款者名字。在類別裡創建變數name，其值等於uname\n",
    "        self.balance = money                # 設定所存的錢。在類別裡創建變數balance，其值等於money\n",
    "        \n",
    "    def save_money(self, money):            # 設計存款方法\n",
    "        self.balance += money               # 執行存款\n",
    "        print(\"存款 \", money, \" 完成\")      # 列印存款完成\n",
    "\n",
    "    def withdraw_money(self, money):        # 設計提款方法\n",
    "        self.balance -= money               # 執行提款\n",
    "        print(\"提款 \", money, \" 完成\")      # 列印提款完成 \n",
    "    \n",
    "    def get_balance1(self):\n",
    "        return self.balance\n",
    "\n",
    "    def get_balance2(self):\n",
    "        print(self.name, \" 目前餘額: \", self.balance)  #獲得存款餘額。使用這個類別中的balance值\n",
    "        \n",
    "    \n",
    "isaacbank = Banks('isaac', 100)               # 定義物件isaacbank，isaac會被丟到uname中，100會被丟到money中\n",
    "print(isaacbank.name, \" 存款餘額是 \", isaacbank.get_balance1())  #uname被取出，並套用isaacbank的值。\n",
    "##不是很懂為何不能直接用isaacbank.balace取出money的值\n",
    "\n",
    "print()\n",
    "\n",
    "#可以同時開多人戶頭\n",
    "isaacbank = Banks('isaac', 100)               # 定義物件isaacbank\n",
    "lydiabank = Banks('lydia', 300)               # 定義物件lydiabank\n",
    "isaacbank.get_balance2()                      # 獲得isaac存款餘額                \n",
    "lydiabank.get_balance2()                      # 獲得lydia存款餘額\n",
    "isaacbank.save_money(250)                    # isaac存款250。可以更新資訊\n",
    "lydiabank.withdraw_money(150)                # lydia提款150\n",
    "isaacbank.get_balance2()                      # 獲得isaac存款餘額                \n",
    "lydiabank.get_balance2()                      # 獲得lydia存款餘額"
   ]
  },
  {
   "cell_type": "markdown",
   "id": "0c6b5d9d",
   "metadata": {},
   "source": [
    "[ 封裝 ] - Encapsulation\n",
    "\n",
    "(將類別中的attribute和method私有化，class外部無法存取)"
   ]
  },
  {
   "cell_type": "raw",
   "id": "fac94b99",
   "metadata": {},
   "source": [
    "在attribute或method加上兩底線：__\n",
    "self.__xxx"
   ]
  },
  {
   "cell_type": "code",
   "execution_count": null,
   "id": "8d12c83a",
   "metadata": {},
   "outputs": [],
   "source": [
    "class Apple():\n",
    "    \n",
    "    def score(self, juicy, sweet):\n",
    "        self.taste = juicy\n",
    "        self.smell = sweet\n",
    "        self.__weight = 25  #加雙底線，會使外部無法存取、無法變更\n",
    "        print(self.taste, self.smell, self.ammount, self.__weight)\n",
    "        \n",
    "fruit = Apple()\n",
    "fruit.score(10, 5)\n",
    "\n",
    "print(fruit.taste)\n",
    "print(fruit.__weight)  #無法存取"
   ]
  },
  {
   "cell_type": "markdown",
   "id": "15c94a94",
   "metadata": {},
   "source": [
    "[ 繼承 ] - Inheritance\n",
    "\n",
    "(可以使子類別繼承父類別的程式，並使用或加以修改)"
   ]
  },
  {
   "cell_type": "code",
   "execution_count": null,
   "id": "33cc4192",
   "metadata": {},
   "outputs": [],
   "source": [
    "class Grandfather():  #父類別\n",
    "    def action1(self):\n",
    "        print(\"Grandfather\")\n",
    "        \n",
    "class Father(Grandfather):  #Grandfather的子類別，內容就像有父類別的所有程式碼；Child的父類別\n",
    "    def action2(self):\n",
    "        print(\"Father\")\n",
    "\n",
    "class Uncle(Grandfather):  #Grandfather的子類別；Child的父類別\n",
    "    def action2(self):\n",
    "        print(\"Uncle\")\n",
    "\n",
    "class Child(Father, Uncle):  #可以同時繼承多個父類別，重複指令時會以第一個類別為主\n",
    "    def action3(self):\n",
    "        print(\"Child\")\n",
    "\n",
    "child = Child()\n",
    "child.action3()              # 順序 child\n",
    "child.action2()              # 順序 child -> Father\n",
    "child.action1()              # 順序 child -> Father -> Grandfather"
   ]
  },
  {
   "cell_type": "markdown",
   "id": "25705f9b",
   "metadata": {},
   "source": [
    "[ 多形 ] - Polymorphism\n",
    "\n",
    "(如果子類別有跟父類別相同的method，會複寫父類別的method)"
   ]
  },
  {
   "cell_type": "code",
   "execution_count": null,
   "id": "7334e2e4",
   "metadata": {},
   "outputs": [],
   "source": [
    "class Person():  #父類別\n",
    "    def __init__(self,name):\n",
    "        self.name = name\n",
    "        \n",
    "class TeacherPerson(Person):\n",
    "    def __init__(self,name):  #子類別的__init__重複了，會複寫父類別的__init__\n",
    "        self.name = \"teacher \" + name\n",
    "        \n",
    "class MommyPerson(Person):\n",
    "    def __init__(self, name):\n",
    "        super().__init__(name)  #強迫call父類別的這個函數\n",
    "\n",
    "my_name = Person(\"isaac\")\n",
    "t_my_name = TeacherPerson(\"isaac\")\n",
    "m_my_name = MommyPerson('Evelyn')\n",
    "print(my_name.name)\n",
    "print(t_my_name.name)\n",
    "print(m_my_name.name)"
   ]
  }
 ],
 "metadata": {
  "kernelspec": {
   "display_name": "Python 3 (ipykernel)",
   "language": "python",
   "name": "python3"
  },
  "language_info": {
   "codemirror_mode": {
    "name": "ipython",
    "version": 3
   },
   "file_extension": ".py",
   "mimetype": "text/x-python",
   "name": "python",
   "nbconvert_exporter": "python",
   "pygments_lexer": "ipython3",
   "version": "3.10.10"
  }
 },
 "nbformat": 4,
 "nbformat_minor": 5
}
